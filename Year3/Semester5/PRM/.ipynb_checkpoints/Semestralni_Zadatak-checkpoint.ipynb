{
 "cells": [
  {
   "cell_type": "markdown",
   "id": "6aed4f4f-24b8-42d0-befc-fa10410fbcb7",
   "metadata": {
    "id": "6aed4f4f-24b8-42d0-befc-fa10410fbcb7"
   },
   "source": [
    "# 1. Neodređeni integrali\n",
    "---\n",
    "## 1.1 Matematička osnova"
   ]
  },
  {
   "cell_type": "markdown",
   "id": "ab1532e4-8f6c-425b-b4e9-4f087efd40d8",
   "metadata": {
    "id": "ab1532e4-8f6c-425b-b4e9-4f087efd40d8"
   },
   "source": [
    "Neka je funkcija $f$ definisana na intervalu $(a, b)$. Ako postoji funkcija $F$ takva da važi $F'(x)=f(x), \\; \\forall x \\in (a, b)$, onda kažemo da je $F$ <b>primitivna funkcija</b> funkcije $f$ na intervalu $(a, b)$."
   ]
  },
  {
   "cell_type": "markdown",
   "id": "0f228baf-c2f1-4b14-9916-5e36e185e167",
   "metadata": {
    "id": "0f228baf-c2f1-4b14-9916-5e36e185e167"
   },
   "source": [
    "Skup svih primitivnih funkcija funkcije $f(x)$ zovemo <b>neodređenim integralom</b> funkcije $f(x)$ i označavamo sa  $\\int{f(x)}\\,dx$. <br>\n",
    "Ako je $F(x)$ jedna primitivna funkcija funkcije $f(x)$ na intervalu $(a, b)$, onda skup $\\int{f(x)}\\,dx$ za $x \\in (a, b)$ pišemo kao:\n"
   ]
  },
  {
   "cell_type": "markdown",
   "id": "78dab6f7-47c7-42bc-92bc-2cff8781830c",
   "metadata": {
    "id": "78dab6f7-47c7-42bc-92bc-2cff8781830c"
   },
   "source": [
    "\\begin{equation}\n",
    "\\int{f(x)}\\,dx = F(x) + C, \\quad C \\in \\mathbb{R}, \\; x \\in (a, b)\n",
    "\\end{equation}\n"
   ]
  },
  {
   "cell_type": "markdown",
   "id": "356f7a50-4de1-4cf3-91a4-1f1fa5f2bee2",
   "metadata": {
    "id": "356f7a50-4de1-4cf3-91a4-1f1fa5f2bee2"
   },
   "source": [
    "---\n",
    "## 1.2 Rešavanje zadataka"
   ]
  },
  {
   "cell_type": "markdown",
   "id": "53e60632-f32c-4f4a-91cd-1748364e0ccd",
   "metadata": {
    "id": "53e60632-f32c-4f4a-91cd-1748364e0ccd"
   },
   "source": [
    "Za rešavanje neodređenih integrala koristićemo SymPy biblioteku za simboličko izračunavanje. Za iscrtavanje grafika se može koristiti Matplotlib i NumPy ili SimPy."
   ]
  },
  {
   "cell_type": "code",
   "execution_count": 7,
   "id": "8c54e68e-0d42-43f3-b9b9-fa7f6a861532",
   "metadata": {
    "id": "8c54e68e-0d42-43f3-b9b9-fa7f6a861532"
   },
   "outputs": [],
   "source": [
    "import sympy as sym\n",
    "import numpy as np\n",
    "import matplotlib.pyplot as plt\n",
    "sym.init_printing() # lep ispis"
   ]
  },
  {
   "cell_type": "markdown",
   "id": "e9da587f-9f40-4c28-a197-351c50b72766",
   "metadata": {
    "id": "e9da587f-9f40-4c28-a197-351c50b72766"
   },
   "source": [
    "---\n",
    "<h4>Zadatak 1. - Jednostavan integral</h4>\n",
    "Naći rešenje integrala:\n",
    "$$\n",
    "\\int{x^2}\\,dx\n",
    "\\tag{1}\n",
    "$$\n"
   ]
  },
  {
   "cell_type": "markdown",
   "id": "2fb6c8b3-0261-4735-9273-f7b08f80bc38",
   "metadata": {
    "id": "2fb6c8b3-0261-4735-9273-f7b08f80bc38"
   },
   "source": [
    "U SymPy prvo moramo definisati simbole koji će konfigurisati u podintegralnoj funkciji. U ovom slučaju, to je samo $x$."
   ]
  },
  {
   "cell_type": "code",
   "execution_count": 10,
   "id": "4e7c9fa3-11b0-4456-b742-c31076fb32f6",
   "metadata": {
    "id": "4e7c9fa3-11b0-4456-b742-c31076fb32f6"
   },
   "outputs": [],
   "source": [
    "x = sym.Symbol(\"x\")"
   ]
  },
  {
   "cell_type": "markdown",
   "id": "72e2bf57-b117-4bac-a759-10ae4fa870e5",
   "metadata": {
    "id": "72e2bf57-b117-4bac-a759-10ae4fa870e5"
   },
   "source": [
    "Onda definišemo podintegralnu funkciju $f$."
   ]
  },
  {
   "cell_type": "code",
   "execution_count": 12,
   "id": "196b1186-7bc8-4127-a187-eb689fb80d99",
   "metadata": {
    "colab": {
     "base_uri": "https://localhost:8080/",
     "height": 39
    },
    "id": "196b1186-7bc8-4127-a187-eb689fb80d99",
    "outputId": "903c4a9a-f24c-488b-943b-c87052e1831d"
   },
   "outputs": [
    {
     "data": {
      "image/png": "[encoded data removed]",
      "text/latex": [
       "$\\displaystyle x^{2}$"
      ],
      "text/plain": [
       " 2\n",
       "x "
      ]
     },
     "execution_count": 12,
     "metadata": {},
     "output_type": "execute_result"
    }
   ],
   "source": [
    "f = x**2 # x^2\n",
    "f"
   ]
  },
  {
   "cell_type": "markdown",
   "id": "fa0061ec-9e3b-489d-88cc-dc1d1b74c2d8",
   "metadata": {
    "id": "fa0061ec-9e3b-489d-88cc-dc1d1b74c2d8"
   },
   "source": [
    "Konačno, koristimo proceduru integrate iz SymPy biblioteke kako bismo dobili $F(x)$."
   ]
  },
  {
   "cell_type": "code",
   "execution_count": 14,
   "id": "6e3ea6b4-48c6-447e-a566-4be4d062c3f7",
   "metadata": {
    "colab": {
     "base_uri": "https://localhost:8080/",
     "height": 54
    },
    "id": "6e3ea6b4-48c6-447e-a566-4be4d062c3f7",
    "outputId": "56f62155-6a96-4fde-d06b-17e658bb74ca"
   },
   "outputs": [
    {
     "data": {
      "image/png": "[encoded data removed]",
      "text/latex": [
       "$\\displaystyle \\frac{x^{3}}{3}$"
      ],
      "text/plain": [
       " 3\n",
       "x \n",
       "──\n",
       "3 "
      ]
     },
     "execution_count": 14,
     "metadata": {},
     "output_type": "execute_result"
    }
   ],
   "source": [
    "F = f.integrate()\n",
    "F"
   ]
  },
  {
   "cell_type": "markdown",
   "id": "7440e366-bf81-4878-ba67-94a5ce214803",
   "metadata": {
    "id": "7440e366-bf81-4878-ba67-94a5ce214803"
   },
   "source": [
    "Tako nalazimo da je rešenje integrala $(1)$."
   ]
  },
  {
   "cell_type": "markdown",
   "id": "fb4c11a2-be59-47f2-9053-a62dbe0b1969",
   "metadata": {
    "id": "fb4c11a2-be59-47f2-9053-a62dbe0b1969"
   },
   "source": [
    "$$\n",
    "\\int{x^2}\\,dx = \\frac{x^3}{3} + C\n",
    "$$"
   ]
  },
  {
   "cell_type": "markdown",
   "id": "b239a0da-ea6c-4053-87cd-c539058c7e5f",
   "metadata": {
    "id": "b239a0da-ea6c-4053-87cd-c539058c7e5f"
   },
   "source": [
    "Rešenje možemo skicirati pomoću SymPy:"
   ]
  },
  {
   "cell_type": "code",
   "execution_count": 18,
   "id": "79b9ee2d-2c07-4288-af0f-30333f00102e",
   "metadata": {
    "id": "79b9ee2d-2c07-4288-af0f-30333f00102e",
    "outputId": "87114140-ed25-4101-aeb5-efde198781a1"
   },
   "outputs": [
    {
     "data": {
      "image/png": "[encoded data removed]",
      "text/plain": [
       "<Figure size 640x480 with 1 Axes>"
      ]
     },
     "metadata": {},
     "output_type": "display_data"
    },
    {
     "data": {
      "text/plain": [
       "<sympy.plotting.backends.matplotlibbackend.matplotlib.MatplotlibBackend at 0x1de67deea50>"
      ]
     },
     "execution_count": 18,
     "metadata": {},
     "output_type": "execute_result"
    }
   ],
   "source": [
    "sym.plot(F, xlim=(-5, 5), ylim=(-10, 10), xlabel=\"\", ylabel=\"\", title = r\"Grafik funkcije $\\frac{x^3}{3}$\")\n",
    "# r \" ... \" da bi se prepoznao Latex (raw string)"
   ]
  },
  {
   "cell_type": "markdown",
   "id": "d41e0af3-9fb8-4814-9bcd-fb7061a32cf8",
   "metadata": {
    "id": "d41e0af3-9fb8-4814-9bcd-fb7061a32cf8"
   },
   "source": [
    "---\n",
    "<h4>Zadatak 2. - Dvojni integral</h4>\n",
    "Naći rešenje dvojnog integrala:\n",
    "$$\n",
    "\\iint{(xy)}\\,dx \\,dy\n",
    "\\tag{2}\n",
    "$$\n"
   ]
  },
  {
   "cell_type": "markdown",
   "id": "7e5f8ddb-1aec-4f3e-b14b-b56932286d0b",
   "metadata": {
    "id": "7e5f8ddb-1aec-4f3e-b14b-b56932286d0b"
   },
   "source": [
    "Opet, moramo definisati simbole koje ćemo koristiti. U prethodnom zadatku smo već definisali $x$, ali gledaćemo kao da ova zadatak rešavamo od početka, pa ćemo opet definisati sve simbole."
   ]
  },
  {
   "cell_type": "code",
   "execution_count": 21,
   "id": "40557d4c-ffe6-493f-9a74-9ca2b4f1bd0d",
   "metadata": {
    "id": "40557d4c-ffe6-493f-9a74-9ca2b4f1bd0d"
   },
   "outputs": [],
   "source": [
    "x, y = sym.symbols(\"x y\")"
   ]
  },
  {
   "cell_type": "markdown",
   "id": "5948f4d0-bd97-4ac3-884f-82ed11d641d6",
   "metadata": {
    "id": "5948f4d0-bd97-4ac3-884f-82ed11d641d6"
   },
   "source": [
    "Definišemo podintegralnu funkciju."
   ]
  },
  {
   "cell_type": "code",
   "execution_count": 23,
   "id": "411d3c72-1a59-4868-a364-c664ba7d293e",
   "metadata": {
    "id": "411d3c72-1a59-4868-a364-c664ba7d293e",
    "outputId": "c55d17f3-8d77-4b7f-e807-d13fd48c6d22"
   },
   "outputs": [
    {
     "data": {
      "image/png": "[encoded data removed]",
      "text/latex": [
       "$\\displaystyle x y$"
      ],
      "text/plain": [
       "x⋅y"
      ]
     },
     "execution_count": 23,
     "metadata": {},
     "output_type": "execute_result"
    }
   ],
   "source": [
    "f = x*y\n",
    "f"
   ]
  },
  {
   "cell_type": "markdown",
   "id": "7d19e7c2-f05e-4027-b5fe-38e4f79d8437",
   "metadata": {
    "id": "7d19e7c2-f05e-4027-b5fe-38e4f79d8437"
   },
   "source": [
    "Dvojni integral rešavamo tako što rešimo prvi integral po jednoj promenljivoj, a drugu posmatramo kao konstantu, pa onda rešimo i drugi integral po drugoj promenljivoj, a rezultat prvog integrala je konstanta. Odnosno, važi:\n",
    "$$\n",
    "\\iint{f(x)f(y)}\\,dx \\,dy = \\int{f(x)\\,dx}\\int{f(y)\\,dy}\n",
    "$$\n",
    "Pa integral (2) možemo rešiti:"
   ]
  },
  {
   "cell_type": "code",
   "execution_count": 25,
   "id": "ac66c804-e581-4d4f-a229-6b7bed57830a",
   "metadata": {
    "id": "ac66c804-e581-4d4f-a229-6b7bed57830a",
    "outputId": "b1cdbe29-98c9-4238-bcc6-f1d78b2fed75"
   },
   "outputs": [
    {
     "data": {
      "image/png": "[encoded data removed]",
      "text/latex": [
       "$\\displaystyle \\frac{x^{2} y}{2}$"
      ],
      "text/plain": [
       " 2  \n",
       "x ⋅y\n",
       "────\n",
       " 2  "
      ]
     },
     "execution_count": 25,
     "metadata": {},
     "output_type": "execute_result"
    }
   ],
   "source": [
    "F_po_x = sym.integrate(f, x) # prvo integralimo po x\n",
    "F_po_x"
   ]
  },
  {
   "cell_type": "code",
   "execution_count": 26,
   "id": "f5c57006-c0f9-4361-b544-f192c34429ad",
   "metadata": {
    "id": "f5c57006-c0f9-4361-b544-f192c34429ad",
    "outputId": "93ab5fae-dc84-46b7-d221-cf10b6d75fc4"
   },
   "outputs": [
    {
     "data": {
      "image/png": "[encoded data removed]",
      "text/latex": [
       "$\\displaystyle \\frac{x^{2} y^{2}}{4}$"
      ],
      "text/plain": [
       " 2  2\n",
       "x ⋅y \n",
       "─────\n",
       "  4  "
      ]
     },
     "execution_count": 26,
     "metadata": {},
     "output_type": "execute_result"
    }
   ],
   "source": [
    "F = sym.integrate(F_po_x, y) # integralimo po y\n",
    "F"
   ]
  },
  {
   "cell_type": "markdown",
   "id": "b1d749f9-2077-4a28-8ea6-665e7acfd000",
   "metadata": {
    "id": "b1d749f9-2077-4a28-8ea6-665e7acfd000"
   },
   "source": [
    "Ili pozivajući:"
   ]
  },
  {
   "cell_type": "code",
   "execution_count": 28,
   "id": "bb5e90ba-c15a-4bec-a24e-a1054f38857c",
   "metadata": {
    "id": "bb5e90ba-c15a-4bec-a24e-a1054f38857c",
    "outputId": "a7dd890a-e33b-46d5-8408-09d8494371cd"
   },
   "outputs": [
    {
     "data": {
      "image/png": "[encoded data removed]",
      "text/latex": [
       "$\\displaystyle \\frac{x^{2} y^{2}}{4}$"
      ],
      "text/plain": [
       " 2  2\n",
       "x ⋅y \n",
       "─────\n",
       "  4  "
      ]
     },
     "execution_count": 28,
     "metadata": {},
     "output_type": "execute_result"
    }
   ],
   "source": [
    "F = f.integrate(x).integrate(y) # izvršava se prvo integracija po x pa se rezultat integrali po y\n",
    "F"
   ]
  },
  {
   "cell_type": "markdown",
   "id": "a3840d74-b9bf-49c1-9ce0-ec73e4ab988c",
   "metadata": {
    "id": "a3840d74-b9bf-49c1-9ce0-ec73e4ab988c"
   },
   "source": [
    "Ili najjednostavnije, pozivom `f.integrate(params)` gde params je proizvoljan broj promenljivih po kojima se računa integral `f`."
   ]
  },
  {
   "cell_type": "code",
   "execution_count": 30,
   "id": "a1bcf09f-b563-4ee1-9e9d-8a7bada9cfe0",
   "metadata": {
    "id": "a1bcf09f-b563-4ee1-9e9d-8a7bada9cfe0",
    "outputId": "693b2d00-eb78-4e85-dd07-c6231fc3c569"
   },
   "outputs": [
    {
     "data": {
      "image/png": "[encoded data removed]",
      "text/latex": [
       "$\\displaystyle \\frac{x^{2} y^{2}}{4}$"
      ],
      "text/plain": [
       " 2  2\n",
       "x ⋅y \n",
       "─────\n",
       "  4  "
      ]
     },
     "execution_count": 30,
     "metadata": {},
     "output_type": "execute_result"
    }
   ],
   "source": [
    "f.integrate(x, y)"
   ]
  },
  {
   "cell_type": "markdown",
   "id": "ebd3effd-a0e7-428c-8f4e-5772360ad3c1",
   "metadata": {
    "id": "ebd3effd-a0e7-428c-8f4e-5772360ad3c1"
   },
   "source": [
    "Ili tako što pozovemo proceduru `integrate(f, params)`:"
   ]
  },
  {
   "cell_type": "code",
   "execution_count": 32,
   "id": "4565102c-884a-40a2-8ad4-1b61e94c03e3",
   "metadata": {
    "id": "4565102c-884a-40a2-8ad4-1b61e94c03e3",
    "outputId": "b254dec8-eddc-4730-f06c-5d2071fdb624"
   },
   "outputs": [
    {
     "data": {
      "image/png": "[encoded data removed]",
      "text/latex": [
       "$\\displaystyle \\frac{x^{2} y^{2}}{4}$"
      ],
      "text/plain": [
       " 2  2\n",
       "x ⋅y \n",
       "─────\n",
       "  4  "
      ]
     },
     "execution_count": 32,
     "metadata": {},
     "output_type": "execute_result"
    }
   ],
   "source": [
    "sym.integrate(f, x, y)"
   ]
  },
  {
   "cell_type": "markdown",
   "id": "dd204fbc-773f-4389-b427-3b309c35377f",
   "metadata": {
    "id": "dd204fbc-773f-4389-b427-3b309c35377f"
   },
   "source": [
    "---\n",
    "<h4>Zadatak 3. - Trojni integral i trigonometrijska funkcija</h4>\n",
    "Naći rešenje trojnog integrala:\n",
    "$$\n",
    "\\iiint{(\\sin{x}yz^2)}\\,dx \\,dy \\,dz\n",
    "\\tag{3}\n",
    "$$\n"
   ]
  },
  {
   "cell_type": "markdown",
   "id": "f447ee32-0bf5-4ea7-a3fb-dd5901561594",
   "metadata": {
    "id": "f447ee32-0bf5-4ea7-a3fb-dd5901561594"
   },
   "source": [
    "Definisaćemo promenljive i podintegralnu funkciju:"
   ]
  },
  {
   "cell_type": "code",
   "execution_count": 35,
   "id": "a3989fef-08bb-4bd6-8bec-946555e859b0",
   "metadata": {
    "id": "a3989fef-08bb-4bd6-8bec-946555e859b0",
    "outputId": "d100804f-1dfa-4c92-e416-a66863306728"
   },
   "outputs": [
    {
     "data": {
      "image/png": "[encoded data removed]",
      "text/latex": [
       "$\\displaystyle y z^{2} \\sin{\\left(x \\right)}$"
      ],
      "text/plain": [
       "   2       \n",
       "y⋅z ⋅sin(x)"
      ]
     },
     "execution_count": 35,
     "metadata": {},
     "output_type": "execute_result"
    }
   ],
   "source": [
    "x, y, z = sym.symbols(\"x y z\")\n",
    "f = sym.sin(x)*y*z**2\n",
    "f"
   ]
  },
  {
   "cell_type": "markdown",
   "id": "4216bf80-d2b4-4cfc-8c7d-0a171dea4ac0",
   "metadata": {
    "id": "4216bf80-d2b4-4cfc-8c7d-0a171dea4ac0"
   },
   "source": [
    "I konačno, kao u prošlom zadatku, rešićemo integral tako što ćemo specifirati sve 3 promenljive pri pozivu funkcije:"
   ]
  },
  {
   "cell_type": "code",
   "execution_count": 37,
   "id": "9a574beb-d04b-4a22-a786-f67c247d8eb9",
   "metadata": {
    "id": "9a574beb-d04b-4a22-a786-f67c247d8eb9",
    "outputId": "87d70b6b-bcc8-48f3-fbb8-4005d0cb117b"
   },
   "outputs": [
    {
     "data": {
      "image/png": "[encoded data removed]",
      "text/latex": [
       "$\\displaystyle - \\frac{y^{2} z^{3} \\cos{\\left(x \\right)}}{6}$"
      ],
      "text/plain": [
       "  2  3        \n",
       "-y ⋅z ⋅cos(x) \n",
       "──────────────\n",
       "      6       "
      ]
     },
     "execution_count": 37,
     "metadata": {},
     "output_type": "execute_result"
    }
   ],
   "source": [
    "F = f.integrate(x, y, z)\n",
    "F"
   ]
  },
  {
   "cell_type": "markdown",
   "id": "7d84b284-3114-4338-b7f0-b9aaef2c04a2",
   "metadata": {
    "id": "7d84b284-3114-4338-b7f0-b9aaef2c04a2"
   },
   "source": [
    "---\n",
    "<h4>Zadatak 4. - Integral iracionalne funkcije</h4>\n",
    "$$\n",
    "\\int{\\frac{-x}{\\sqrt{1-x^2}}}\\,dx\n",
    "\\tag{4}\n",
    "$$"
   ]
  },
  {
   "cell_type": "markdown",
   "id": "36ee12fa-c5f4-4ea2-8cc2-f23a6e9dace6",
   "metadata": {
    "id": "36ee12fa-c5f4-4ea2-8cc2-f23a6e9dace6"
   },
   "source": [
    "Rešićemo integral kao do sada i skiciraćemo grafik koji se dobije pomoću Matplotlib biblioteke."
   ]
  },
  {
   "cell_type": "code",
   "execution_count": 40,
   "id": "cdca83d5-23e3-4b82-89eb-3abbd5b1301a",
   "metadata": {
    "id": "cdca83d5-23e3-4b82-89eb-3abbd5b1301a",
    "outputId": "e90aba60-273f-4853-b44c-9282cb8189d9"
   },
   "outputs": [
    {
     "data": {
      "image/png": "[encoded data removed]",
      "text/latex": [
       "$\\displaystyle - \\frac{x}{\\sqrt{1 - x^{2}}}$"
      ],
      "text/plain": [
       "    -x     \n",
       "───────────\n",
       "   ________\n",
       "  ╱      2 \n",
       "╲╱  1 - x  "
      ]
     },
     "execution_count": 40,
     "metadata": {},
     "output_type": "execute_result"
    }
   ],
   "source": [
    "x, y = sym.symbols(\"x y\")\n",
    "f = -x/(sym.sqrt(1-x**2))\n",
    "f"
   ]
  },
  {
   "cell_type": "code",
   "execution_count": 41,
   "id": "5ad8b8d8-f0c5-46bd-9ee7-3d7be477e3b5",
   "metadata": {
    "id": "5ad8b8d8-f0c5-46bd-9ee7-3d7be477e3b5",
    "outputId": "e2e153b7-9b0f-45f3-c052-2153a6eebd05"
   },
   "outputs": [
    {
     "data": {
      "image/png": "[encoded data removed]",
      "text/latex": [
       "$\\displaystyle \\sqrt{1 - x^{2}}$"
      ],
      "text/plain": [
       "   ________\n",
       "  ╱      2 \n",
       "╲╱  1 - x  "
      ]
     },
     "execution_count": 41,
     "metadata": {},
     "output_type": "execute_result"
    }
   ],
   "source": [
    "F = f.integrate(x)\n",
    "F"
   ]
  },
  {
   "cell_type": "code",
   "execution_count": 42,
   "id": "80342f6f-8d97-423c-917a-b31a2bdbf475",
   "metadata": {
    "id": "80342f6f-8d97-423c-917a-b31a2bdbf475",
    "outputId": "7fa18e05-bdfb-4a98-840e-f5e89f09b6ba"
   },
   "outputs": [
    {
     "data": {
      "image/png": "[encoded data removed]",
      "text/plain": [
       "<Figure size 600x300 with 1 Axes>"
      ]
     },
     "metadata": {},
     "output_type": "display_data"
    }
   ],
   "source": [
    "from matplotlib import style as plt_style\n",
    "def skiciraj(fja, x, n, naslov, x_naslov, y_naslov, x_dimenzije, y_dimenzije):\n",
    "    x_vals = np.linspace(-1, 1, n) # niz od n ekvidistantnih tačaka na intervalu\n",
    "    f_lambdified = sym.lambdify(x, fja, 'numpy') # pretvaramo u Python izraz\n",
    "    y_vals = f_lambdified(x_vals) # dobijamo y vrednosti funkcije f\n",
    "\n",
    "    # kreiramo grafik\n",
    "    plt.figure(figsize=(x_dimenzije, y_dimenzije)) # dimenzije grafika u kvadratićima\n",
    "    plt.plot(x_vals, y_vals)\n",
    "\n",
    "    # dodavanje naslova i oznaka\n",
    "    plt.title(naslov, fontsize=14)\n",
    "    plt.xlabel(x_naslov, fontsize=12)\n",
    "    plt.ylabel(y_naslov, fontsize=12)\n",
    "    plt.axhline(0, color='black', linewidth=0.8, linestyle='-') # x osa\n",
    "    plt.axvline(0, color='black', linewidth=0.8, linestyle='-') # y osa\n",
    "    plt.grid(alpha=0.5) # prikaz pozadine na kvadratiće i njihova prozirnost\n",
    "\n",
    "    plt.show()\n",
    "skiciraj(F, x, 500, 'Grafik rešenja integrala', 'x', 'F(x)', 6, 3)"
   ]
  },
  {
   "cell_type": "markdown",
   "id": "4029dc29-19f6-4585-bc88-23c6e40a8138",
   "metadata": {},
   "source": [
    "---\n",
    "<h4>Zadatak 5. - Integral sa parametrom</h4>\n",
    "$$\n",
    "\\int{x^a\\ln{x}}\\,dx\n",
    "\\tag{5}\n",
    "$$"
   ]
  },
  {
   "cell_type": "markdown",
   "id": "d07f5a2b-f238-4c45-89b3-db6e382012c0",
   "metadata": {},
   "source": [
    "Integral se rešava standardno:"
   ]
  },
  {
   "cell_type": "code",
   "execution_count": 322,
   "id": "15878987-6d75-41ee-ab7f-321255b20efa",
   "metadata": {},
   "outputs": [
    {
     "data": {
      "image/png": "[encoded data removed]",
      "text/latex": [
       "$\\displaystyle x^{a} \\log{\\left(x \\right)}$"
      ],
      "text/plain": [
       " a       \n",
       "x ⋅log(x)"
      ]
     },
     "execution_count": 322,
     "metadata": {},
     "output_type": "execute_result"
    }
   ],
   "source": [
    "a, x = sym.symbols(\"a x\")\n",
    "f = x**a*sym.ln(x)\n",
    "f"
   ]
  },
  {
   "cell_type": "code",
   "execution_count": 324,
   "id": "cd59f617-30a2-4821-bf17-38a68c1e65a9",
   "metadata": {},
   "outputs": [
    {
     "data": {
      "text/latex": [
       "$\\displaystyle \\begin{cases} \\frac{x^{a + 1} \\left(a \\log{\\left(x \\right)} + \\log{\\left(x \\right)} - 1\\right)}{a^{2} + 2 a + 1} & \\text{for}\\: a > -1 \\vee a < -1 \\\\\\frac{\\log{\\left(x \\right)}^{2}}{2} & \\text{otherwise} \\end{cases}$"
      ],
      "text/plain": [
       "⎧ a + 1                                             \n",
       "⎪x     ⋅(a⋅log(x) + log(x) - 1)                     \n",
       "⎪──────────────────────────────  for a > -1 ∨ a < -1\n",
       "⎪          2                                        \n",
       "⎪         a  + 2⋅a + 1                              \n",
       "⎨                                                   \n",
       "⎪              2                                    \n",
       "⎪           log (x)                                 \n",
       "⎪           ───────                   otherwise     \n",
       "⎪              2                                    \n",
       "⎩                                                   "
      ]
     },
     "execution_count": 324,
     "metadata": {},
     "output_type": "execute_result"
    }
   ],
   "source": [
    "F = f.integrate(x).simplify()\n",
    "F"
   ]
  },
  {
   "cell_type": "markdown",
   "id": "0yCRHK8bpMLV",
   "metadata": {
    "id": "0yCRHK8bpMLV"
   },
   "source": [
    "# 2.Određeni Integrali\n",
    "---\n",
    "## 2.1 Matematička osnova"
   ]
  },
  {
   "cell_type": "markdown",
   "id": "F6523MptsfMd",
   "metadata": {
    "id": "F6523MptsfMd"
   },
   "source": [
    "Neka je $[a,b] \\subseteq \\mathbb{R}$ neki interval. Podelimo taj interval pomoću tačaka  $ a = x_0 < x_1 < x_2 < \\ldots < x_n = b, $\n",
    "a zatim u svakom od podintervala $[x_i, x_{i+1}]$, $i=0, \\ldots, n-1$, izaberimo po jednu tačku i označimo je sa $\\xi_i$.  \n",
    "\n",
    "Tačke $x_i$ i $\\xi_i$ definišu podelu intervala $[a,b]$, u oznaci:\n",
    "$ d = (x_0, x_1, \\ldots, x_n; \\xi_0, \\xi_1, \\ldots, \\xi_{n-1}).$\n",
    "\n",
    "Neka je data funkcija $f: [a,b] \\to \\mathbb{R}$. Integralna suma funkcije $f$ na intervalu $[a,b]$ pri podeli $d$ se definiše kao\n",
    "$ S(f, d, a, b) = \\sum_{i=0}^{n-1} f(\\xi_i) (x_{i+1} - x_i). $\n",
    "\n",
    "\n"
   ]
  },
  {
   "cell_type": "markdown",
   "id": "U3atyYKByw1G",
   "metadata": {
    "id": "U3atyYKByw1G"
   },
   "source": [
    "$S(f,d,a,b)$ = zbir površina pravougaonika čije su osnove segmenti $[x_i,x_{i+1}]$ (dakle dužina $x_{i+1} - x_i $), a visine $f(\\xi_i)$."
   ]
  },
  {
   "cell_type": "markdown",
   "id": "WIc0A690t0j-",
   "metadata": {
    "id": "WIc0A690t0j-"
   },
   "source": [
    "Norma podele $ d= (x_0, \\ldots, x_n; \\xi_i, \\ldots, \\xi_{n-1}) $ , u oznaci $||d|| $, predstavlja dužinu najvećeg od podintervala date podele: $ ||d|| = \\max_{0 \\leq i \\leq n -1}(x_{i+1} - x_i) $"
   ]
  },
  {
   "cell_type": "markdown",
   "id": "k2F_brTBt8pN",
   "metadata": {
    "id": "k2F_brTBt8pN"
   },
   "source": [
    "Ako postoji konačna granična vrednost $ I = \\lim_{\\|d\\| \\to 0} S(f, d, a, b) $\n",
    "i ako ona ne zavisi od podele $d$ intervala $[a,b]$, onda se realan broj $I$ naziva određenim (ili Rimanovim) integralom funkcije $f$ na intervalu $[a,b]$ i označava se sa:\n",
    "\n",
    "$ I = \\int_a^b f(x) dx. $"
   ]
  },
  {
   "cell_type": "markdown",
   "id": "QIB6DjJ-p8MV",
   "metadata": {
    "id": "QIB6DjJ-p8MV"
   },
   "source": [
    "## 2.2 Rešavanje zadataka\n"
   ]
  },
  {
   "cell_type": "markdown",
   "id": "37124b70-8333-44e2-b557-6295503ea491",
   "metadata": {
    "id": "37124b70-8333-44e2-b557-6295503ea491"
   },
   "source": [
    "---\n",
    "<h4>Zadatak 1. - Nalaženje integrala pomoću integralnih suma</h4>\n",
    "Naći rešenje integrala:\n",
    "$$\n",
    "\\int_{-1}^{1}{\\sqrt{1-x^2}\\,dx}\n",
    "\\tag{1}\n",
    "$$\n",
    "\n"
   ]
  },
  {
   "cell_type": "markdown",
   "id": "94c604ea-e0da-4f45-9001-bce2fcffcf98",
   "metadata": {
    "id": "94c604ea-e0da-4f45-9001-bce2fcffcf98"
   },
   "source": [
    "Definisaćemo promenljive i podintegralnu funkciju:"
   ]
  },
  {
   "cell_type": "code",
   "execution_count": 55,
   "id": "2e328db6-7894-4e22-8c1c-e4ce782a3f2a",
   "metadata": {
    "id": "2e328db6-7894-4e22-8c1c-e4ce782a3f2a",
    "outputId": "8081e69c-cec5-41fa-8cf9-ad8291c0099b"
   },
   "outputs": [
    {
     "data": {
      "image/png": "[encoded data removed]",
      "text/latex": [
       "$\\displaystyle \\sqrt{1 - x^{2}}$"
      ],
      "text/plain": [
       "   ________\n",
       "  ╱      2 \n",
       "╲╱  1 - x  "
      ]
     },
     "execution_count": 55,
     "metadata": {},
     "output_type": "execute_result"
    }
   ],
   "source": [
    "x = sym.Symbol(\"x\")\n",
    "f = sym.sqrt(1-x**2)\n",
    "f"
   ]
  },
  {
   "cell_type": "markdown",
   "id": "99ff47e1-5974-482a-a5bf-5e8693a71f5b",
   "metadata": {
    "id": "99ff47e1-5974-482a-a5bf-5e8693a71f5b"
   },
   "source": [
    "Znamo da je ovo jednačina polukružnice, pa pošto je integral po ovoj jednačini sa ovim granicama ustvari površina polukruga poluprečnika 1. <br>\n",
    "Možemo očekivati da rezultat bude: $$\\frac{\\pi}{2}$$"
   ]
  },
  {
   "cell_type": "markdown",
   "id": "8fa47b30-5e00-4fa4-b9b3-7b24456260cb",
   "metadata": {
    "id": "8fa47b30-5e00-4fa4-b9b3-7b24456260cb"
   },
   "source": [
    "Probaćemo da odredimo ovu površinu bez procedura za integraciju, već aproksimacijom i integralnim sumama."
   ]
  },
  {
   "cell_type": "markdown",
   "id": "d80017a9-5592-43c3-b5f7-674ebfba369d",
   "metadata": {
    "id": "d80017a9-5592-43c3-b5f7-674ebfba369d"
   },
   "source": [
    "Interval $[-1, 1]$ ćemo podeliti na ekvidistantne razmake. Razmak između 2 odbirka će biti jedna stranica pravougaonika $(x_{i+1} - x_i)$, a druga će biti vrednost $f(x_i)$.<br>\n",
    "Sumiranjem površina ovih pravougaonika ćemo dobiti površinu polukruga.\n"
   ]
  },
  {
   "cell_type": "code",
   "execution_count": 59,
   "id": "8021990e-cd27-4edc-9a3c-167c8009f6c1",
   "metadata": {
    "id": "8021990e-cd27-4edc-9a3c-167c8009f6c1",
    "outputId": "229090c2-3741-4f0d-9941-d32525d7b538"
   },
   "outputs": [
    {
     "data": {
      "text/plain": [
       "array([-1.        , -0.97979798, -0.95959596, -0.93939394, -0.91919192,\n",
       "       -0.8989899 , -0.87878788, -0.85858586, -0.83838384, -0.81818182,\n",
       "       -0.7979798 , -0.77777778, -0.75757576, -0.73737374, -0.71717172,\n",
       "       -0.6969697 , -0.67676768, -0.65656566, -0.63636364, -0.61616162,\n",
       "       -0.5959596 , -0.57575758, -0.55555556, -0.53535354, -0.51515152,\n",
       "       -0.49494949, -0.47474747, -0.45454545, -0.43434343, -0.41414141,\n",
       "       -0.39393939, -0.37373737, -0.35353535, -0.33333333, -0.31313131,\n",
       "       -0.29292929, -0.27272727, -0.25252525, -0.23232323, -0.21212121,\n",
       "       -0.19191919, -0.17171717, -0.15151515, -0.13131313, -0.11111111,\n",
       "       -0.09090909, -0.07070707, -0.05050505, -0.03030303, -0.01010101,\n",
       "        0.01010101,  0.03030303,  0.05050505,  0.07070707,  0.09090909,\n",
       "        0.11111111,  0.13131313,  0.15151515,  0.17171717,  0.19191919,\n",
       "        0.21212121,  0.23232323,  0.25252525,  0.27272727,  0.29292929,\n",
       "        0.31313131,  0.33333333,  0.35353535,  0.37373737,  0.39393939,\n",
       "        0.41414141,  0.43434343,  0.45454545,  0.47474747,  0.49494949,\n",
       "        0.51515152,  0.53535354,  0.55555556,  0.57575758,  0.5959596 ,\n",
       "        0.61616162,  0.63636364,  0.65656566,  0.67676768,  0.6969697 ,\n",
       "        0.71717172,  0.73737374,  0.75757576,  0.77777778,  0.7979798 ,\n",
       "        0.81818182,  0.83838384,  0.85858586,  0.87878788,  0.8989899 ,\n",
       "        0.91919192,  0.93939394,  0.95959596,  0.97979798,  1.        ])"
      ]
     },
     "execution_count": 59,
     "metadata": {},
     "output_type": "execute_result"
    }
   ],
   "source": [
    "f_lambdified = sym.lambdify(x, f, 'numpy')\n",
    "x_vals = np.linspace(-1, 1, 100) # 100 odbiraka\n",
    "x_vals"
   ]
  },
  {
   "cell_type": "code",
   "execution_count": 60,
   "id": "34b8d4ba-fa09-439c-8d4c-aacadb4eb2a1",
   "metadata": {
    "id": "34b8d4ba-fa09-439c-8d4c-aacadb4eb2a1",
    "outputId": "58fbbcf7-0e45-4ec4-bf30-eca2e45dac0e"
   },
   "outputs": [
    {
     "name": "stdout",
     "output_type": "stream",
     "text": [
      "Aproksimirana površina:  1.5691090196009043 \n",
      "Prava površina:  1.57079632679490\n"
     ]
    },
    {
     "data": {
      "image/png": "[encoded data removed]",
      "text/plain": [
       "<Figure size 640x480 with 1 Axes>"
      ]
     },
     "metadata": {},
     "output_type": "display_data"
    }
   ],
   "source": [
    "plt.plot(x_vals, f_lambdified(x_vals), color=\"red\", label=\"Polukrug\")\n",
    "plt.gca().set_aspect('equal')\n",
    "plt.axhline(0, color='black', linewidth=0.8, linestyle='-') # x osa\n",
    "plt.axvline(0, color='black', linewidth=0.8, linestyle='-') # y osa \n",
    "plt.xlim(-1.1, 1.1)\n",
    "plt.ylim(0, 1.1)\n",
    "plt.grid(alpha=0.5)\n",
    "\n",
    "povrsina = 0\n",
    "for i in range(0, len(x_vals)-1):\n",
    "    x = x_vals[i+1] - x_vals[i]\n",
    "    y = f_lambdified(x_vals[i+1])\n",
    "\n",
    "    plt.fill_between([x_vals[i], x_vals[i+1]], 0, y, color='blue', alpha=0.5, label=(\"Pravougaonik\"if(i==0)else \"\"))\n",
    "    \n",
    "    p = x*y\n",
    "    povrsina+=p\n",
    "\n",
    "print('Aproksimirana površina: ', povrsina, '\\nPrava površina: ', (sym.pi/2).evalf())\n",
    "plt.legend()\n",
    "plt.show()\n"
   ]
  },
  {
   "cell_type": "markdown",
   "id": "ae1120ed-4835-4e11-bb65-97b6cb65b42b",
   "metadata": {
    "id": "ae1120ed-4835-4e11-bb65-97b6cb65b42b"
   },
   "source": [
    "<b>Prikaz animacije: </b> <br><i>Fajl `animacija.gif` se mora nalaziti u istom folderu kao ova Jupyter sveska!</i>"
   ]
  },
  {
   "cell_type": "markdown",
   "id": "198452dc-60e3-415a-8761-842cb7ce2bc3",
   "metadata": {
    "id": "198452dc-60e3-415a-8761-842cb7ce2bc3"
   },
   "source": [
    "![Animacija](animacija.gif \"Animacija\")"
   ]
  },
  {
   "cell_type": "markdown",
   "id": "914e72eb-da1d-4cfc-9d42-64cf552038f4",
   "metadata": {
    "id": "914e72eb-da1d-4cfc-9d42-64cf552038f4"
   },
   "source": [
    "<b>Ovu animaciju i kod koji je generiše možete naći u priloženim fajlovima.</b>"
   ]
  },
  {
   "cell_type": "markdown",
   "id": "y1a2-eKS5tgO",
   "metadata": {
    "id": "y1a2-eKS5tgO"
   },
   "source": [
    "---\n",
    "<h4>Zadatak 2. - NumPy simboličko izračunavanje i SciPy procedure za numeričku integraciju</h4>\n",
    "Naći rešenje integrala:\n",
    "$$\n",
    "\\int_{2}^{3}{x^2}\\,dx\n",
    "\\tag{2}\n",
    "$$\n",
    "\n"
   ]
  },
  {
   "cell_type": "markdown",
   "id": "GZvq1Gxf57Pu",
   "metadata": {
    "id": "GZvq1Gxf57Pu"
   },
   "source": [
    "Definisaćemo promenljive i podintegralnu funkciju:"
   ]
  },
  {
   "cell_type": "code",
   "execution_count": 328,
   "id": "Tzc9rYAt25iW",
   "metadata": {
    "colab": {
     "base_uri": "https://localhost:8080/",
     "height": 39
    },
    "id": "Tzc9rYAt25iW",
    "outputId": "e002009c-8aca-42ea-9066-12c8078ae6fa"
   },
   "outputs": [
    {
     "data": {
      "image/png": "[encoded data removed]",
      "text/latex": [
       "$\\displaystyle x^{2}$"
      ],
      "text/plain": [
       " 2\n",
       "x "
      ]
     },
     "execution_count": 328,
     "metadata": {},
     "output_type": "execute_result"
    }
   ],
   "source": [
    "x = sym.Symbol(\"x\")\n",
    "f = x**2\n",
    "f"
   ]
  },
  {
   "cell_type": "markdown",
   "id": "53b9150c-b213-4ebc-b0cf-fd9fb300807f",
   "metadata": {
    "id": "53b9150c-b213-4ebc-b0cf-fd9fb300807f"
   },
   "source": [
    "Umesto \"pešaka\" da računamo integral, kao u prvom zadatku, koristimo proceduru `integrate` iz SymPy biblioteke kako bismo dobili rešenje:"
   ]
  },
  {
   "cell_type": "code",
   "execution_count": 331,
   "id": "c8b07308-4e58-401b-b352-97f360489bf2",
   "metadata": {
    "id": "c8b07308-4e58-401b-b352-97f360489bf2",
    "outputId": "e5807135-8fa9-47eb-d6b3-e793ab1c252b"
   },
   "outputs": [
    {
     "data": {
      "image/png": "[encoded data removed]",
      "text/latex": [
       "$\\displaystyle \\frac{19}{3}$"
      ],
      "text/plain": [
       "19/3"
      ]
     },
     "execution_count": 331,
     "metadata": {},
     "output_type": "execute_result"
    }
   ],
   "source": [
    "F = sym.integrate(f, (x, 2, 3))\n",
    "F\n"
   ]
  },
  {
   "cell_type": "markdown",
   "id": "27ed872d-69cb-4f4d-a062-7989b59883d5",
   "metadata": {
    "id": "27ed872d-69cb-4f4d-a062-7989b59883d5"
   },
   "source": [
    "---\n",
    "<h5>SciPy biblioteka za integraciju</h5>\n",
    "\n",
    "Metode za integraciju funkcija kada je funkcija data kao objekat:\n",
    "\n",
    "\n",
    "\\begin{aligned}\n",
    "\\text{quad} & \\quad \\text{-- Opšta metoda za numeričku integraciju.} \\\\\n",
    "\\text{dblquad} & \\quad \\text{-- Opšta metoda za dvostruku integraciju.} \\\\\n",
    "\\text{tplquad} & \\quad \\text{-- Opšta metoda za trostruku integraciju.} \\\\\n",
    "\\text{fixed\\_quad} & \\quad \\text{-- Integracija pomoću Gaussove kvadrature reda } n. \\\\\n",
    "\\text{quadrature} & \\quad \\text{-- Integracija sa zadatom tolerancijom pomoću Gaussove kvadrature.} \\\\\n",
    "\\text{romberg} & \\quad \\text{-- Integracija pomoću Rombergove metode.}\n",
    "\\end{aligned}\n",
    "\n",
    "\n",
    "Metode za integraciju funkcija kada su uzorci unapred dati:\n",
    "\n",
    "\n",
    "\\begin{aligned}\n",
    "\\text{trapezoid} & \\quad \\text{-- Korišćenje trapezoidnog pravila za računanje integrala.} \\\\\n",
    "\\text{cumulative\\_trapezoid} & \\quad \\text{-- Korišćenje trapezoidnog pravila za kumulativni integral.} \\\\\n",
    "\\text{simpson} & \\quad \\text{-- Simpsonovo pravilo za računanje integrala iz uzoraka.} \\\\\n",
    "\\text{romb} & \\quad \\text{-- Rombergova metoda za integral iz } (2^k + 1) \\text{ ravnomerno raspoređenih uzoraka.}\n",
    "\\end{aligned}\n",
    "\n",
    "---\n"
   ]
  },
  {
   "cell_type": "markdown",
   "id": "b4142220-e159-47fe-bca4-95e7c985aac2",
   "metadata": {
    "id": "b4142220-e159-47fe-bca4-95e7c985aac2"
   },
   "source": [
    "Sada ćemo odraditi <b>numerički</b> koristeći <b>SciPy</b> metode:\n",
    "1. kvadraturnu,\n",
    "2. trapeznu i\n",
    "3. Simpsonovu formulu."
   ]
  },
  {
   "cell_type": "markdown",
   "id": "729ff6c8-8603-45d4-8bb6-f185c490f854",
   "metadata": {
    "id": "729ff6c8-8603-45d4-8bb6-f185c490f854"
   },
   "source": [
    "Koristimo integrate iz SymPy biblioteke kako bismo dobili rešenje:"
   ]
  },
  {
   "cell_type": "code",
   "execution_count": 336,
   "id": "cbbe608b-2881-4666-aaf9-70d884e80bc5",
   "metadata": {
    "id": "cbbe608b-2881-4666-aaf9-70d884e80bc5"
   },
   "outputs": [],
   "source": [
    "from scipy import integrate"
   ]
  },
  {
   "cell_type": "markdown",
   "id": "95e1b197-73d5-43f7-bd75-213726fb42f7",
   "metadata": {
    "id": "95e1b197-73d5-43f7-bd75-213726fb42f7"
   },
   "source": [
    "Definišemo funkciju:"
   ]
  },
  {
   "cell_type": "code",
   "execution_count": 339,
   "id": "285668ae-a759-4606-bddf-d2536a1f96c1",
   "metadata": {
    "id": "285668ae-a759-4606-bddf-d2536a1f96c1"
   },
   "outputs": [],
   "source": [
    "def f(x):\n",
    "  return x**2"
   ]
  },
  {
   "cell_type": "markdown",
   "id": "3a31d572-3e3b-429c-8a2e-c575f26cdfb3",
   "metadata": {
    "id": "3a31d572-3e3b-429c-8a2e-c575f26cdfb3"
   },
   "source": [
    "Koristimo <b>kvadraturnu</b> formulu:"
   ]
  },
  {
   "cell_type": "code",
   "execution_count": 342,
   "id": "911f2794-67af-4c31-b07f-06dc4a8517a7",
   "metadata": {
    "id": "911f2794-67af-4c31-b07f-06dc4a8517a7",
    "outputId": "d2a900ef-9ba9-433e-827c-011573eb59d6"
   },
   "outputs": [
    {
     "name": "stdout",
     "output_type": "stream",
     "text": [
      "Rezultat sa kvadraturnu: 6.333333333333334\n",
      "Greška sa kvadraturnu: 7.031412489292659e-14\n"
     ]
    }
   ],
   "source": [
    "val_quad, err_quad = integrate.quad(f, 2, 3)\n",
    "print(\"Rezultat sa kvadraturnu:\",val_quad)\n",
    "print(\"Greška sa kvadraturnu:\",err_quad)"
   ]
  },
  {
   "cell_type": "markdown",
   "id": "94a810be-e98f-4e66-92de-c4dfa2b3a025",
   "metadata": {
    "id": "94a810be-e98f-4e66-92de-c4dfa2b3a025"
   },
   "source": [
    "Pravimo vrednosti za tabeliranje:"
   ]
  },
  {
   "cell_type": "code",
   "execution_count": 345,
   "id": "5832c90a-3ccb-4832-85a5-662a87449fae",
   "metadata": {
    "id": "5832c90a-3ccb-4832-85a5-662a87449fae"
   },
   "outputs": [],
   "source": [
    "x_vals = np.linspace(2, 3, 100)\n",
    "y_vals  = f(x_vals)"
   ]
  },
  {
   "cell_type": "markdown",
   "id": "7b3a9b40-9492-4e4d-bd95-66cbc89d23dd",
   "metadata": {
    "id": "7b3a9b40-9492-4e4d-bd95-66cbc89d23dd"
   },
   "source": [
    "Primenjujemo <b>trapeznu</b> i <b>Simpsonovu</b> formulu:"
   ]
  },
  {
   "cell_type": "code",
   "execution_count": 348,
   "id": "1b8585af-6450-4cff-b7ff-76785d02b5de",
   "metadata": {
    "id": "1b8585af-6450-4cff-b7ff-76785d02b5de",
    "outputId": "38174e47-9c2c-4153-d7ff-60865bf60e2a"
   },
   "outputs": [
    {
     "name": "stdout",
     "output_type": "stream",
     "text": [
      "Rezultat sa trapeznu: 6.333350338400844\n",
      "Rezultat sa Simpsonovu: 6.333333333333334\n"
     ]
    }
   ],
   "source": [
    "val_trap = integrate.trapezoid(y_vals,x_vals)\n",
    "val_sim = integrate.simpson(y=y_vals,x=x_vals)\n",
    "print(\"Rezultat sa trapeznu:\",val_trap)\n",
    "print(\"Rezultat sa Simpsonovu:\",val_sim)"
   ]
  },
  {
   "cell_type": "markdown",
   "id": "f0b5d3c7-5540-418e-bb24-1e24e003c009",
   "metadata": {
    "id": "f0b5d3c7-5540-418e-bb24-1e24e003c009"
   },
   "source": [
    "Tačnu vrednost smo simbolički izračunali:"
   ]
  },
  {
   "cell_type": "code",
   "execution_count": 351,
   "id": "f6f182ec-b873-406f-b0fa-08f2906a6288",
   "metadata": {
    "id": "f6f182ec-b873-406f-b0fa-08f2906a6288",
    "outputId": "f66bd6e3-5de6-4304-de3d-ca4fd2b262e6"
   },
   "outputs": [
    {
     "data": {
      "image/png": "[encoded data removed]",
      "text/latex": [
       "$\\displaystyle 6.33333333333333$"
      ],
      "text/plain": [
       "6.33333333333333"
      ]
     },
     "execution_count": 351,
     "metadata": {},
     "output_type": "execute_result"
    }
   ],
   "source": [
    "val_tacna = F.evalf()\n",
    "val_tacna"
   ]
  },
  {
   "cell_type": "markdown",
   "id": "7bf22b34-b288-4f69-ab50-9772003e0d0b",
   "metadata": {
    "id": "7bf22b34-b288-4f69-ab50-9772003e0d0b"
   },
   "source": [
    "<b>Apsolutna greška kvadraturne metode</b>"
   ]
  },
  {
   "cell_type": "code",
   "execution_count": 354,
   "id": "7ba0f01d-703a-43fd-9f3f-b22e762d2fc5",
   "metadata": {
    "id": "7ba0f01d-703a-43fd-9f3f-b22e762d2fc5",
    "outputId": "f8a33c63-a54d-40e0-e251-11333648f78c"
   },
   "outputs": [
    {
     "data": {
      "image/png": "[encoded data removed]",
      "text/latex": [
       "$\\displaystyle 8.88178419700125 \\cdot 10^{-16}$"
      ],
      "text/plain": [
       "8.88178419700125e-16"
      ]
     },
     "execution_count": 354,
     "metadata": {},
     "output_type": "execute_result"
    }
   ],
   "source": [
    "abs(val_tacna - val_quad)"
   ]
  },
  {
   "cell_type": "markdown",
   "id": "1f1be0d3-ab71-4f6a-a441-ababfe1cf2f4",
   "metadata": {
    "id": "1f1be0d3-ab71-4f6a-a441-ababfe1cf2f4"
   },
   "source": [
    "<b>Apsolutna greška trapezne metode</b>"
   ]
  },
  {
   "cell_type": "code",
   "execution_count": 357,
   "id": "35623338-9a3f-4a82-87c5-fb06bbb22e02",
   "metadata": {
    "id": "35623338-9a3f-4a82-87c5-fb06bbb22e02",
    "outputId": "7ad5f781-a4ea-44ee-df15-74838f179726"
   },
   "outputs": [
    {
     "data": {
      "image/png": "[encoded data removed]",
      "text/latex": [
       "$\\displaystyle 1.70050675105671 \\cdot 10^{-5}$"
      ],
      "text/plain": [
       "1.70050675105671e-5"
      ]
     },
     "execution_count": 357,
     "metadata": {},
     "output_type": "execute_result"
    }
   ],
   "source": [
    "abs(val_tacna - val_trap)"
   ]
  },
  {
   "cell_type": "markdown",
   "id": "ebad46b2-47b8-483f-b9a7-37a2eea8d1d2",
   "metadata": {
    "id": "ebad46b2-47b8-483f-b9a7-37a2eea8d1d2"
   },
   "source": [
    "<b>Apsolutna greška Simpsonove metode</b>"
   ]
  },
  {
   "cell_type": "code",
   "execution_count": 360,
   "id": "88e87138-3501-4e49-9441-cb53c2726e93",
   "metadata": {
    "id": "88e87138-3501-4e49-9441-cb53c2726e93",
    "outputId": "ecc4ed0e-8e25-4244-ec2a-ff53864d7e01"
   },
   "outputs": [
    {
     "data": {
      "image/png": "[encoded data removed]",
      "text/latex": [
       "$\\displaystyle 8.88178419700125 \\cdot 10^{-16}$"
      ],
      "text/plain": [
       "8.88178419700125e-16"
      ]
     },
     "execution_count": 360,
     "metadata": {},
     "output_type": "execute_result"
    }
   ],
   "source": [
    "abs(val_tacna - val_sim)"
   ]
  },
  {
   "cell_type": "markdown",
   "id": "0c39fe27-83bb-4327-a9b4-829b09e93e90",
   "metadata": {
    "id": "0c39fe27-83bb-4327-a9b4-829b09e93e90"
   },
   "source": [
    "Sada ćemo napraviti grafik funkcije:"
   ]
  },
  {
   "cell_type": "code",
   "execution_count": 367,
   "id": "24f311ed-58a4-422f-b2fc-bc606008c0fd",
   "metadata": {
    "id": "24f311ed-58a4-422f-b2fc-bc606008c0fd",
    "outputId": "a1ba4fbe-ecfd-4a50-d0e7-0f402c5d24ac"
   },
   "outputs": [
    {
     "data": {
      "image/png": "[encoded data removed]",
      "text/plain": [
       "<Figure size 640x480 with 1 Axes>"
      ]
     },
     "metadata": {},
     "output_type": "display_data"
    }
   ],
   "source": [
    "plt.plot(x_vals, y_vals, color=\"blue\")\n",
    "plt.fill_between(x_vals, y_vals, alpha=0.5, color=\"yellow\")\n",
    "plt.title(r\"Grafik funkcije $f(x) = x^2$\")\n",
    "plt.xlabel(\"x\")\n",
    "plt.ylabel(\"f(x)\")\n",
    "plt.grid(True, linestyle=\"--\", alpha=0.5)\n",
    "plt.show()"
   ]
  },
  {
   "cell_type": "markdown",
   "id": "2a861e0f-393a-4c28-8714-c7688008ccad",
   "metadata": {
    "id": "2a861e0f-393a-4c28-8714-c7688008ccad"
   },
   "source": [
    "---\n",
    "<h4>Zadatak 3. - Integral funkcije koja je definisana drugačije u različitim intervalima </h4>\n",
    "Ako je f-ja f definisana sa:\n",
    "$ f(x) = \\left\\{ \\begin{array}{c1}\n",
    "1-x & : \\ 0 \\leq x \\leq 1 \\\\\n",
    "x^2 & : \\ 1< x \\leq 0\n",
    "\\end{array} \\right. $\n",
    ", izračunati:\n",
    "\n",
    "$$\\int_{0}^{2}{f(x)}\\,dx\n",
    "\\tag{3}\n",
    "$$\n",
    "\n"
   ]
  },
  {
   "cell_type": "markdown",
   "id": "MhuqTUKdF-h2",
   "metadata": {
    "id": "MhuqTUKdF-h2"
   },
   "source": [
    "Definisaćemo promenljive i podintegralnu funkciju:\n"
   ]
  },
  {
   "cell_type": "code",
   "execution_count": 93,
   "id": "OEDzudRrE391",
   "metadata": {
    "colab": {
     "base_uri": "https://localhost:8080/",
     "height": 68
    },
    "id": "OEDzudRrE391",
    "outputId": "de98a597-73ae-4859-8e89-2317c50075e5"
   },
   "outputs": [
    {
     "data": {
      "text/latex": [
       "$\\displaystyle \\begin{cases} 1 - x & \\text{for}\\: x \\geq 0 \\wedge x \\leq 1 \\\\x^{2} & \\text{for}\\: x \\leq 2 \\wedge x > 1 \\end{cases}$"
      ],
      "text/plain": [
       "⎧1 - x  for x ≥ 0 ∧ x ≤ 1\n",
       "⎪                        \n",
       "⎨  2                     \n",
       "⎪ x     for x ≤ 2 ∧ x > 1\n",
       "⎩                        "
      ]
     },
     "execution_count": 93,
     "metadata": {},
     "output_type": "execute_result"
    }
   ],
   "source": [
    "x = sym.Symbol(\"x\")\n",
    "f = sym.Piecewise(\n",
    "    (1 - x, (x >= 0) & (x <= 1)),\n",
    "    (x**2, (x > 1) & (x <= 2))\n",
    ")\n",
    "f"
   ]
  },
  {
   "cell_type": "markdown",
   "id": "kJLZNd_rzCBS",
   "metadata": {
    "id": "kJLZNd_rzCBS"
   },
   "source": [
    "Koristimo proceduru integrate iz SymPy biblioteke kako bismo dobili rešenje:"
   ]
  },
  {
   "cell_type": "code",
   "execution_count": 95,
   "id": "GkJHKmTKFGKv",
   "metadata": {
    "colab": {
     "base_uri": "https://localhost:8080/",
     "height": 51
    },
    "id": "GkJHKmTKFGKv",
    "outputId": "a91018e4-4111-43d1-e7ce-7dbace3ce71a"
   },
   "outputs": [
    {
     "data": {
      "image/png": "[encoded data removed]",
      "text/latex": [
       "$\\displaystyle \\frac{17}{6}$"
      ],
      "text/plain": [
       "17/6"
      ]
     },
     "execution_count": 95,
     "metadata": {},
     "output_type": "execute_result"
    }
   ],
   "source": [
    "F = sym.integrate(f, (x, 0, 2))\n",
    "F"
   ]
  },
  {
   "cell_type": "markdown",
   "id": "6nxN2m43GwuX",
   "metadata": {
    "id": "6nxN2m43GwuX"
   },
   "source": [
    "---\n",
    "<h4>Zadatak 4. -  Integral inverzne trigonometrijske funkcije; Trapezna metoda ručno i preko procedure</h4>\n",
    "Naći rešenje integrala:\n",
    "$$\n",
    "\\int_{2}^{3}{\\arcsin (\\sqrt{\\frac{x}{x+1}})}\\,dx\n",
    "\\tag{4}\n",
    "$$\n",
    "\n"
   ]
  },
  {
   "cell_type": "markdown",
   "id": "jBPUaG7oIe-6",
   "metadata": {
    "id": "jBPUaG7oIe-6"
   },
   "source": [
    "Definisaćemo promenljive i podintegralnu funkciju:"
   ]
  },
  {
   "cell_type": "code",
   "execution_count": 98,
   "id": "mfKrSKlWIe_A",
   "metadata": {
    "colab": {
     "base_uri": "https://localhost:8080/",
     "height": 59
    },
    "id": "mfKrSKlWIe_A",
    "outputId": "5c0002bf-c58c-465a-eb9f-a9fbdebc0838"
   },
   "outputs": [
    {
     "data": {
      "image/png": "[encoded data removed]",
      "text/latex": [
       "$\\displaystyle \\operatorname{asin}{\\left(\\sqrt{\\frac{x}{x + 1}} \\right)}$"
      ],
      "text/plain": [
       "    ⎛    _______⎞\n",
       "    ⎜   ╱   x   ⎟\n",
       "asin⎜  ╱  ───── ⎟\n",
       "    ⎝╲╱   x + 1 ⎠"
      ]
     },
     "execution_count": 98,
     "metadata": {},
     "output_type": "execute_result"
    }
   ],
   "source": [
    "x = sym.Symbol(\"x\")\n",
    "f = sym.asin (sym.sqrt(x/(x+1)))\n",
    "f"
   ]
  },
  {
   "cell_type": "markdown",
   "id": "rCp-V9DdzDUx",
   "metadata": {
    "id": "rCp-V9DdzDUx"
   },
   "source": [
    "Koristimo proceduru integrate iz SymPy biblioteke kako bismo dobili rešenje:"
   ]
  },
  {
   "cell_type": "code",
   "execution_count": 100,
   "id": "y0RgaHauIe_A",
   "metadata": {
    "colab": {
     "base_uri": "https://localhost:8080/",
     "height": 51
    },
    "id": "y0RgaHauIe_A",
    "outputId": "0e77ee68-657b-48fd-ab67-57434200fe02"
   },
   "outputs": [
    {
     "data": {
      "image/png": "[encoded data removed]",
      "text/latex": [
       "$\\displaystyle - 2 \\operatorname{asin}{\\left(\\frac{\\sqrt{6}}{3} \\right)} - \\sqrt{3} - \\operatorname{atan}{\\left(\\sqrt{2} \\right)} + \\sqrt{2} + \\frac{4 \\pi}{3}$"
      ],
      "text/plain": [
       "        ⎛√6⎞                        4⋅π\n",
       "- 2⋅asin⎜──⎟ - √3 - atan(√2) + √2 + ───\n",
       "        ⎝3 ⎠                         3 "
      ]
     },
     "execution_count": 100,
     "metadata": {},
     "output_type": "execute_result"
    }
   ],
   "source": [
    "F = sym.integrate(f, (x, 2, 3))\n",
    "F"
   ]
  },
  {
   "cell_type": "code",
   "execution_count": 101,
   "id": "72ef7a20-6f2a-4379-b4c3-de0a0a831ca7",
   "metadata": {
    "colab": {
     "base_uri": "https://localhost:8080/",
     "height": 37
    },
    "id": "72ef7a20-6f2a-4379-b4c3-de0a0a831ca7",
    "outputId": "ec248361-f010-413b-c12d-248261785d32"
   },
   "outputs": [
    {
     "data": {
      "image/png": "[encoded data removed]",
      "text/latex": [
       "$\\displaystyle 1.00500310521708$"
      ],
      "text/plain": [
       "1.00500310521708"
      ]
     },
     "execution_count": 101,
     "metadata": {},
     "output_type": "execute_result"
    }
   ],
   "source": [
    "F.evalf()"
   ]
  },
  {
   "cell_type": "markdown",
   "id": "7926ebf7-2fff-48ac-9387-ff8e70ca7faf",
   "metadata": {
    "id": "7926ebf7-2fff-48ac-9387-ff8e70ca7faf"
   },
   "source": [
    "Sada ćemo iskoristiti <b>kompozitnu trapeznu</b> formulu:\n",
    "$$\n",
    "T(h) = \\frac{h}{2}(f(a) + f(b) + 2\\sum_{i=1}^{m-1}{f_i}) \\tag{4.1}\n",
    "$$\n",
    "Gde je $h$ korak za tabeliranje funkcije.\n"
   ]
  },
  {
   "cell_type": "markdown",
   "id": "92fd9e64-8896-4c05-b1dc-d033995f9844",
   "metadata": {
    "id": "92fd9e64-8896-4c05-b1dc-d033995f9844"
   },
   "source": [
    "Tabeliraćemo funkciju na 100 000 ekvidistantnih tačaka:"
   ]
  },
  {
   "cell_type": "code",
   "execution_count": 104,
   "id": "7c5e1a3e-7a51-47aa-a9b0-5282cc0e605c",
   "metadata": {
    "colab": {
     "base_uri": "https://localhost:8080/"
    },
    "id": "7c5e1a3e-7a51-47aa-a9b0-5282cc0e605c",
    "outputId": "c1b6e814-e771-4178-d16f-24a224174a7b"
   },
   "outputs": [
    {
     "name": "stdout",
     "output_type": "stream",
     "text": [
      "h =  1e-05\n"
     ]
    }
   ],
   "source": [
    "n = 100000\n",
    "a = 2\n",
    "b = 3\n",
    "h = (b-a)/n\n",
    "f_lambdified = sym.lambdify(x, f, 'numpy') # Python izraz\n",
    "x_vals = np.linspace(a, b, n) # tabeliranje po x\n",
    "y_vals = f_lambdified(x_vals) # tabeliranje po y\n",
    "print('h = ', h)"
   ]
  },
  {
   "cell_type": "markdown",
   "id": "cfa87520-32fb-469c-8a6d-55748eac56a8",
   "metadata": {
    "id": "cfa87520-32fb-469c-8a6d-55748eac56a8"
   },
   "source": [
    "Primenićemo formulu $(4.1)$:"
   ]
  },
  {
   "cell_type": "code",
   "execution_count": 106,
   "id": "617d035a-d10f-48ad-94bc-5ee6d339930a",
   "metadata": {
    "colab": {
     "base_uri": "https://localhost:8080/",
     "height": 37
    },
    "id": "617d035a-d10f-48ad-94bc-5ee6d339930a",
    "outputId": "d78349af-54ae-4631-9700-985703874d95"
   },
   "outputs": [
    {
     "data": {
      "image/png": "[encoded data removed]",
      "text/latex": [
       "$\\displaystyle 1.00499305518565$"
      ],
      "text/plain": [
       "1.0049930551856459"
      ]
     },
     "execution_count": 106,
     "metadata": {},
     "output_type": "execute_result"
    }
   ],
   "source": [
    "F_trapz_procenjeno = (h/2)*(f_lambdified(a) + f_lambdified(b) + 2*sum(y_vals[1:n-1]))\n",
    "F_trapz_procenjeno"
   ]
  },
  {
   "cell_type": "markdown",
   "id": "f1bd42f7-1872-4b20-a5bf-c883c5827f0c",
   "metadata": {
    "id": "f1bd42f7-1872-4b20-a5bf-c883c5827f0c"
   },
   "source": [
    "A sad ćemo iskoristiti ugrađenu proceduru:"
   ]
  },
  {
   "cell_type": "code",
   "execution_count": 108,
   "id": "2f81e229-7cd6-4e03-8c93-84b958566de0",
   "metadata": {
    "colab": {
     "base_uri": "https://localhost:8080/",
     "height": 37
    },
    "id": "2f81e229-7cd6-4e03-8c93-84b958566de0",
    "outputId": "57d2ee7a-4228-4996-d7db-6f4f5e900abe"
   },
   "outputs": [
    {
     "data": {
      "image/png": "[encoded data removed]",
      "text/latex": [
       "$\\displaystyle 1.0050031052167$"
      ],
      "text/plain": [
       "1.0050031052167003"
      ]
     },
     "execution_count": 108,
     "metadata": {},
     "output_type": "execute_result"
    }
   ],
   "source": [
    "F_trapz = integrate.trapezoid(y_vals, x_vals)\n",
    "F_trapz"
   ]
  },
  {
   "cell_type": "markdown",
   "id": "68965ebf-4f6e-4133-bc9f-71d044338aab",
   "metadata": {
    "id": "68965ebf-4f6e-4133-bc9f-71d044338aab"
   },
   "source": [
    "<b>Upoređivanje?</b>"
   ]
  },
  {
   "cell_type": "code",
   "execution_count": 110,
   "id": "e9345452-5c0b-4da3-9bf5-28bc0ffffb52",
   "metadata": {
    "colab": {
     "base_uri": "https://localhost:8080/"
    },
    "id": "e9345452-5c0b-4da3-9bf5-28bc0ffffb52",
    "outputId": "23a28f46-9472-4931-afa4-c980a0fb28a4"
   },
   "outputs": [
    {
     "name": "stdout",
     "output_type": "stream",
     "text": [
      "Apsolutna greška naše procene: 1.00500314350604e-5\n",
      "Apsolutna greška procedure: 3.80584452841504e-13\n",
      "Razlika između naše procene i ugrađene procedure: 1.0050031054475994e-05\n"
     ]
    }
   ],
   "source": [
    "print(\"Apsolutna greška naše procene:\", abs(F_trapz_procenjeno - F.evalf()))\n",
    "print(\"Apsolutna greška procedure:\", abs(F_trapz - F.evalf()))\n",
    "print(\"Razlika između naše procene i ugrađene procedure:\", abs(F_trapz - F_trapz_procenjeno))"
   ]
  },
  {
   "cell_type": "markdown",
   "id": "QpllK-qNFVjP",
   "metadata": {
    "id": "QpllK-qNFVjP"
   },
   "source": [
    "---\n",
    "<h4>Zadatak 5. - Integral kombinacija logaritma i trigonometrije; Numeričko izračunavanje</h4>\n",
    "Naći rešenje integrala:\n",
    "$$\n",
    "\\int_{-1/2}^{1/2}{ \\cos x \\ln \\frac{1+x}{1-x}}\\,dx\n",
    "\\tag{5}\n",
    "$$\n",
    "\n"
   ]
  },
  {
   "cell_type": "markdown",
   "id": "-sc6vEXiGFaG",
   "metadata": {
    "id": "-sc6vEXiGFaG"
   },
   "source": [
    "Definisaćemo promenljive i podintegralnu funkciju:"
   ]
  },
  {
   "cell_type": "code",
   "execution_count": 113,
   "id": "kPE7OGgCFU8O",
   "metadata": {
    "colab": {
     "base_uri": "https://localhost:8080/",
     "height": 58
    },
    "id": "kPE7OGgCFU8O",
    "outputId": "98e57f3d-8054-4b4e-8269-27ef761fa561"
   },
   "outputs": [
    {
     "data": {
      "image/png": "[encoded data removed]",
      "text/latex": [
       "$\\displaystyle \\log{\\left(\\frac{x + 1}{1 - x} \\right)} \\cos{\\left(x \\right)}$"
      ],
      "text/plain": [
       "   ⎛x + 1⎞       \n",
       "log⎜─────⎟⋅cos(x)\n",
       "   ⎝1 - x⎠       "
      ]
     },
     "execution_count": 113,
     "metadata": {},
     "output_type": "execute_result"
    }
   ],
   "source": [
    "x = sym.Symbol(\"x\")\n",
    "f = sym.cos(x)*sym.ln((x+1)/(1-x))\n",
    "f"
   ]
  },
  {
   "cell_type": "code",
   "execution_count": 114,
   "id": "f7efc18a-fe2c-46be-8912-5c30618e40df",
   "metadata": {
    "id": "f7efc18a-fe2c-46be-8912-5c30618e40df",
    "outputId": "5c3450c6-88a1-4533-91e9-b30d129af80d"
   },
   "outputs": [
    {
     "data": {
      "image/png": "[encoded data removed]",
      "text/plain": [
       "<Figure size 600x400 with 1 Axes>"
      ]
     },
     "metadata": {},
     "output_type": "display_data"
    }
   ],
   "source": [
    "x_vals = np.linspace(-0.5, 0.5, 500) \n",
    "f_lambdified = sym.lambdify(x, f, 'numpy') \n",
    "y_vals = f_lambdified(x_vals) \n",
    "\n",
    "# kreiramo grafik\n",
    "plt.figure(figsize=(6, 4))\n",
    "plt.plot(x_vals, y_vals, label='cos(x) * ln((1+x)/(1-x))', color='blue')\n",
    "\n",
    "plt.fill_between(x_vals, f_lambdified(x_vals), where=(y_vals > 0), color='lightblue', alpha=0.5, label='Ispod pozitivne funkcije')\n",
    "plt.fill_between(x_vals, y_vals, where=(y_vals < 0), color='pink', alpha=0.5, label='Iznad negativne funkcije')\n",
    "\n",
    "# dodavanje naslova i oznaka\n",
    "plt.title('Grafik podintegralne funkcije f', fontsize=14)\n",
    "plt.xlabel('x', fontsize=12)\n",
    "plt.ylabel('f(x)', fontsize=12)\n",
    "plt.axhline(0, color='black', linewidth=0.8, linestyle='-') # x osa je puna linija\n",
    "plt.axvline(0, color='black', linewidth=0.8, linestyle='--') # y osa je isprekidana linija\n",
    "plt.legend(fontsize=10) # prikaz legende\n",
    "plt.grid(alpha=0.5) # prikaz pozadine na kvadratiće i njihova prozirnost\n",
    "\n",
    "plt.show()"
   ]
  },
  {
   "cell_type": "markdown",
   "id": "8xFJtPRJzEKy",
   "metadata": {
    "id": "8xFJtPRJzEKy"
   },
   "source": [
    "Koristimo proceduru integrate iz SymPy biblioteke kako bismo dobili rešenje:"
   ]
  },
  {
   "cell_type": "code",
   "execution_count": 116,
   "id": "R-QyTnb7GQwm",
   "metadata": {
    "colab": {
     "base_uri": "https://localhost:8080/",
     "height": 81
    },
    "id": "R-QyTnb7GQwm",
    "outputId": "77a95123-cab0-4df3-cf48-f897a07fdf9f"
   },
   "outputs": [
    {
     "data": {
      "image/png": "[encoded data removed]",
      "text/latex": [
       "$\\displaystyle \\int\\limits_{-0.5}^{0.5} \\log{\\left(\\frac{x}{1 - x} + \\frac{1}{1 - x} \\right)} \\cos{\\left(x \\right)}\\, dx$"
      ],
      "text/plain": [
       "0.5                              \n",
       " ⌠                               \n",
       " ⎮      ⎛  x       1  ⎞          \n",
       " ⎮   log⎜───── + ─────⎟⋅cos(x) dx\n",
       " ⎮      ⎝1 - x   1 - x⎠          \n",
       " ⌡                               \n",
       "-0.5                             "
      ]
     },
     "execution_count": 116,
     "metadata": {},
     "output_type": "execute_result"
    }
   ],
   "source": [
    "F = sym.integrate(f, (x, -0.5, 0.5))\n",
    "F"
   ]
  },
  {
   "cell_type": "markdown",
   "id": "16feb729-3aba-4533-9279-60cde612c90f",
   "metadata": {
    "id": "16feb729-3aba-4533-9279-60cde612c90f"
   },
   "source": [
    "Pošto SymPy ne zna simbolički da reši integral, probaćemo numerički:\n",
    "<h5>MpMath i SymPy</h5>"
   ]
  },
  {
   "cell_type": "code",
   "execution_count": 118,
   "id": "10c0ec73-cb3f-4f9f-9abc-3d2986559c02",
   "metadata": {
    "id": "10c0ec73-cb3f-4f9f-9abc-3d2986559c02",
    "outputId": "d15b2725-e59a-47b2-f859-a0287f8b5a98"
   },
   "outputs": [
    {
     "data": {
      "image/png": "[encoded data removed]",
      "text/latex": [
       "$\\displaystyle -2.2960665284330548802679902396386978414657211694443 \\cdot 10^{-59}$"
      ],
      "text/plain": [
       "-2.2960665284330548802679902396386978414657211694443e-59"
      ]
     },
     "execution_count": 118,
     "metadata": {},
     "output_type": "execute_result"
    }
   ],
   "source": [
    "import mpmath as mp # mpmath za proizvoljnu preciznost, veću od floating point\n",
    "mp.mp.dps = 50 # 50 decimalnih vrednosti\n",
    "\n",
    "f_mpmath = sym.lambdify(x, f, 'mpmath')\n",
    "# mpmath.quad kvadraturna formula za numeričko izračunavanje određenog integrala\n",
    "val = sym.sympify(mp.quad(f_mpmath, (-0.5, 0.5))) # kvadraturna formula i pretvaranje rezultata u sympy izraz\n",
    "val"
   ]
  },
  {
   "cell_type": "markdown",
   "id": "7986aeea-c40b-465c-b6ac-125ee0582954",
   "metadata": {
    "id": "7986aeea-c40b-465c-b6ac-125ee0582954"
   },
   "source": [
    "Znači, vrednost integrala je 0. Što se i očekivalo sa grafika podintegralne funkcije."
   ]
  },
  {
   "cell_type": "markdown",
   "id": "26685d3c-d7c0-429f-819c-b639937d2963",
   "metadata": {
    "id": "26685d3c-d7c0-429f-819c-b639937d2963"
   },
   "source": [
    "<h5>SciPy i NumPy</h5>"
   ]
  },
  {
   "cell_type": "code",
   "execution_count": 121,
   "id": "dcd39c0f-ccc5-44a3-9324-d31965deb3be",
   "metadata": {
    "id": "dcd39c0f-ccc5-44a3-9324-d31965deb3be",
    "outputId": "b4771fc0-998f-455f-c7b3-f04798ab4870"
   },
   "outputs": [
    {
     "data": {
      "image/png": "[encoded data removed]",
      "text/latex": [
       "$\\displaystyle 1.34297557948509 \\cdot 10^{-17}$"
      ],
      "text/plain": [
       "1.34297557948509e-17"
      ]
     },
     "execution_count": 121,
     "metadata": {},
     "output_type": "execute_result"
    }
   ],
   "source": [
    "# from scipy import integrate # modul za numeričku integraciju\n",
    "f_scipy = lambda t: np.cos(t)*np.log((t+1)/(1-t))\n",
    "\n",
    "val, err = integrate.quad(f_scipy, -0.5, 0.5) # kvadraturna formula\n",
    "val"
   ]
  },
  {
   "cell_type": "markdown",
   "id": "HTmxtKPpna7o",
   "metadata": {
    "id": "HTmxtKPpna7o"
   },
   "source": [
    "---\n",
    "<h4>Zadatak 6. - Nesvojstveni integral gde interval integracije nije konačan; Simboličko i numeričko rešenje</h4>\n",
    "Naći rešenje integrala:\n",
    "$$\n",
    "\\int_{1}^{∞}{\\frac{dx}{x(x+1)}}\\,\n",
    "\\tag{6}\n",
    "$$\n",
    "\n"
   ]
  },
  {
   "cell_type": "markdown",
   "id": "KyBJjv0Mna7t",
   "metadata": {
    "id": "KyBJjv0Mna7t"
   },
   "source": [
    "Definisaćemo promenljive i podintegralnu funkciju:"
   ]
  },
  {
   "cell_type": "code",
   "execution_count": 124,
   "id": "mzOLAhegna7u",
   "metadata": {
    "colab": {
     "base_uri": "https://localhost:8080/",
     "height": 55
    },
    "id": "mzOLAhegna7u",
    "outputId": "ab75f143-92c6-483a-df20-7b68cb4d2e26"
   },
   "outputs": [
    {
     "data": {
      "image/png": "[encoded data removed]",
      "text/latex": [
       "$\\displaystyle \\frac{1}{x \\left(x + 1\\right)}$"
      ],
      "text/plain": [
       "    1    \n",
       "─────────\n",
       "x⋅(x + 1)"
      ]
     },
     "execution_count": 124,
     "metadata": {},
     "output_type": "execute_result"
    }
   ],
   "source": [
    "x = sym.Symbol(\"x\")\n",
    "f = 1/(x*(x+1))\n",
    "f"
   ]
  },
  {
   "cell_type": "markdown",
   "id": "aAry865CzE8R",
   "metadata": {
    "id": "aAry865CzE8R"
   },
   "source": [
    "Koristimo proceduru integrate iz SymPy biblioteke kako bismo dobili rešenje:"
   ]
  },
  {
   "cell_type": "code",
   "execution_count": 126,
   "id": "livKyzGZna7u",
   "metadata": {
    "colab": {
     "base_uri": "https://localhost:8080/",
     "height": 37
    },
    "id": "livKyzGZna7u",
    "outputId": "034f4013-50c8-40bf-9803-8c8e3df5bba9"
   },
   "outputs": [
    {
     "data": {
      "image/png": "[encoded data removed]",
      "text/latex": [
       "$\\displaystyle \\log{\\left(2 \\right)}$"
      ],
      "text/plain": [
       "log(2)"
      ]
     },
     "execution_count": 126,
     "metadata": {},
     "output_type": "execute_result"
    }
   ],
   "source": [
    "F = sym.integrate(f, (x, 1, sym.oo))\n",
    "F"
   ]
  },
  {
   "cell_type": "markdown",
   "id": "0df2cb5c-2c9c-4993-b44f-6f167f77b909",
   "metadata": {
    "id": "0df2cb5c-2c9c-4993-b44f-6f167f77b909"
   },
   "source": [
    "Sada ćemo odraditi i <b>numeričko</b> rešenje: definišemo funkciju pa koristeći <b>kvadraturnu</b> formulu dolazimo do rešenja:\n"
   ]
  },
  {
   "cell_type": "code",
   "execution_count": 128,
   "id": "2cd0ed10-0e6c-4314-baca-30c96f91c1f7",
   "metadata": {
    "id": "2cd0ed10-0e6c-4314-baca-30c96f91c1f7"
   },
   "outputs": [],
   "source": [
    "def f(x):\n",
    "  return 1/(x*(x+1))"
   ]
  },
  {
   "cell_type": "code",
   "execution_count": 129,
   "id": "c4721a64-78a5-4439-9b19-f124c5d2fc4a",
   "metadata": {
    "id": "c4721a64-78a5-4439-9b19-f124c5d2fc4a",
    "outputId": "e78a3c66-bfe7-4190-8815-5ab559e18843"
   },
   "outputs": [
    {
     "name": "stdout",
     "output_type": "stream",
     "text": [
      "Rezultat sa kvadraturnu: 0.6931471805599454\n",
      "Greška sa kvadraturnu: 7.273556512042173e-13\n"
     ]
    }
   ],
   "source": [
    "val, err = integrate.quad(f, 1, np.inf)\n",
    "print(\"Rezultat sa kvadraturnu:\",val)\n",
    "print(\"Greška sa kvadraturnu:\",err)"
   ]
  },
  {
   "cell_type": "markdown",
   "id": "7a1bc311-50bc-46ba-9943-5b27e62b4ca5",
   "metadata": {
    "id": "7a1bc311-50bc-46ba-9943-5b27e62b4ca5"
   },
   "source": [
    "<b>Apsolutna greška kvadraturne metode</b>"
   ]
  },
  {
   "cell_type": "code",
   "execution_count": 131,
   "id": "458d47ad-03ff-4a63-b488-e02b1efa2243",
   "metadata": {
    "id": "458d47ad-03ff-4a63-b488-e02b1efa2243",
    "outputId": "c65ad184-8524-416d-a385-1710673f3f2c"
   },
   "outputs": [
    {
     "data": {
      "image/png": "[encoded data removed]",
      "text/latex": [
       "$\\displaystyle 1.11022302462516 \\cdot 10^{-16}$"
      ],
      "text/plain": [
       "1.11022302462516e-16"
      ]
     },
     "execution_count": 131,
     "metadata": {},
     "output_type": "execute_result"
    }
   ],
   "source": [
    "abs(F.evalf()-val)"
   ]
  },
  {
   "cell_type": "markdown",
   "id": "ow-3OonZpFN6",
   "metadata": {
    "id": "ow-3OonZpFN6"
   },
   "source": [
    "---\n",
    "<h4>Zadatak 7. - Nesvojstveni integral gde podintegralna funkcija nije ograničena na datom intervalu</h4>\n",
    "Naći rešenje integrala:\n",
    "$$\n",
    "\\int_{0}^{1}{\\frac{dx}{\\sqrt{x}}}\\,\n",
    "\\tag{7}\n",
    "$$\n",
    "\n"
   ]
  },
  {
   "cell_type": "markdown",
   "id": "L6LL3Up6pFOA",
   "metadata": {
    "id": "L6LL3Up6pFOA"
   },
   "source": [
    "Definisaćemo promenljive i podintegralnu funkciju:"
   ]
  },
  {
   "cell_type": "code",
   "execution_count": 134,
   "id": "XegdN_YhpFOA",
   "metadata": {
    "colab": {
     "base_uri": "https://localhost:8080/",
     "height": 55
    },
    "id": "XegdN_YhpFOA",
    "outputId": "f75d0cbb-5cf8-4875-ac95-1b43af27119d"
   },
   "outputs": [
    {
     "data": {
      "image/png": "[encoded data removed]",
      "text/latex": [
       "$\\displaystyle \\frac{1}{\\sqrt{x}}$"
      ],
      "text/plain": [
       "1 \n",
       "──\n",
       "√x"
      ]
     },
     "execution_count": 134,
     "metadata": {},
     "output_type": "execute_result"
    }
   ],
   "source": [
    "x = sym.Symbol(\"x\")\n",
    "f = 1/(sym.sqrt(x))\n",
    "f"
   ]
  },
  {
   "cell_type": "markdown",
   "id": "WdwlYcrfzGF5",
   "metadata": {
    "id": "WdwlYcrfzGF5"
   },
   "source": [
    "Koristimo proceduru integrate iz SymPy biblioteke kako bismo dobili rešenje:"
   ]
  },
  {
   "cell_type": "code",
   "execution_count": 136,
   "id": "z6WazzpopFOB",
   "metadata": {
    "colab": {
     "base_uri": "https://localhost:8080/",
     "height": 37
    },
    "id": "z6WazzpopFOB",
    "outputId": "a67c42c6-667f-44ce-90a9-d44c165ac2ca"
   },
   "outputs": [
    {
     "data": {
      "image/png": "[encoded data removed]",
      "text/latex": [
       "$\\displaystyle 2$"
      ],
      "text/plain": [
       "2"
      ]
     },
     "execution_count": 136,
     "metadata": {},
     "output_type": "execute_result"
    }
   ],
   "source": [
    "F = sym.integrate(f, (x, 0, 1))\n",
    "F"
   ]
  },
  {
   "cell_type": "markdown",
   "id": "260842cd-6f52-449d-969d-7f877f1174f1",
   "metadata": {
    "id": "260842cd-6f52-449d-969d-7f877f1174f1"
   },
   "source": [
    "## 2.3 Primena integrala Zadaci"
   ]
  },
  {
   "cell_type": "markdown",
   "id": "42a7ab06-a153-47d5-99ca-545b30c969fa",
   "metadata": {
    "id": "42a7ab06-a153-47d5-99ca-545b30c969fa"
   },
   "source": [
    "---\n",
    "<h4>Zadatak 1. - Površina ravne figure</h4>\n",
    "Izračunati veličinu površine koja ograničava kriva $y= \\ln x $ i prave $x = \\frac{1}{2}$ i $x=2$.\n",
    "\n"
   ]
  },
  {
   "cell_type": "markdown",
   "id": "cc24c1a8-627d-40c1-ba60-f41b1a9bb77a",
   "metadata": {
    "id": "cc24c1a8-627d-40c1-ba60-f41b1a9bb77a"
   },
   "source": [
    "Formula koja se koristi za računanje površine ravne figure je: $P = \\int _{a}^{b}(f(x)-g(x))\\,dx $.\n",
    "\n",
    "Ako je situacija da y osa razdvaja dve površine onda se koristi: $P = P_1 + P_2 = \\int _{a}^{c}(f(x)-0)\\,dx + \\int _{c}^{b}(0-f(x))\\,dx $ pri čemu je deo od $a$ do $c$ pozitivan, a deo od $c$ do $b$ negativan.\n",
    "\n",
    "Takođe se ovo  može zapisati pomoću apsolutne vrednosti:\n",
    "$P = \\int _{a}^{b} |f(x)| \\,dx $"
   ]
  },
  {
   "cell_type": "markdown",
   "id": "e21a1508-afbc-4e50-90d9-4f69247b0295",
   "metadata": {
    "id": "e21a1508-afbc-4e50-90d9-4f69247b0295"
   },
   "source": [
    "Na osnovu grafika vidimo da se površina deli na 2 dela i da u tački $(0,1)$ se menja pa integral delimo na 2 dela:\n",
    "\n",
    "\n",
    "\n",
    "$P = P_1 + P_2 = \\int _{\\frac{1}{2}}^{1}(0-lnx)\\,dx + \\int _{1}^{2}(lnx-0)\\,dx = -\\int _{\\frac{1}{2}}^{1}lnx\\,dx + \\int _{1}^{2}lnx\\,dx  $\n",
    "\n",
    "\n",
    "\n"
   ]
  },
  {
   "cell_type": "markdown",
   "id": "b6ed274e-a355-46c8-8bf1-e4c6f559df55",
   "metadata": {
    "id": "b6ed274e-a355-46c8-8bf1-e4c6f559df55"
   },
   "source": [
    "Definisaćemo promenljive i podintegralnu funkciju:"
   ]
  },
  {
   "cell_type": "code",
   "execution_count": 374,
   "id": "399b3c4c-8d41-4960-b77f-36a76c26dc0c",
   "metadata": {
    "id": "399b3c4c-8d41-4960-b77f-36a76c26dc0c",
    "outputId": "54a0180e-ae89-4010-cd0b-00b870e1fdfe"
   },
   "outputs": [
    {
     "data": {
      "image/png": "[encoded data removed]",
      "text/latex": [
       "$\\displaystyle \\log{\\left(x \\right)}$"
      ],
      "text/plain": [
       "log(x)"
      ]
     },
     "execution_count": 374,
     "metadata": {},
     "output_type": "execute_result"
    }
   ],
   "source": [
    "x = sym.Symbol(\"x\")\n",
    "f = sym.ln(x)\n",
    "f"
   ]
  },
  {
   "cell_type": "markdown",
   "id": "c19ba4c7-3644-481c-8164-83d8fa66758d",
   "metadata": {},
   "source": [
    "Grafik:"
   ]
  },
  {
   "cell_type": "code",
   "execution_count": 377,
   "id": "2c1380cb-9822-4230-8e39-90356543673c",
   "metadata": {},
   "outputs": [
    {
     "data": {
      "image/png": "[encoded data removed]",
      "text/plain": [
       "<Figure size 640x480 with 1 Axes>"
      ]
     },
     "metadata": {},
     "output_type": "display_data"
    },
    {
     "data": {
      "text/plain": [
       "<sympy.plotting.backends.matplotlibbackend.matplotlib.MatplotlibBackend at 0x1de6b485730>"
      ]
     },
     "execution_count": 377,
     "metadata": {},
     "output_type": "execute_result"
    }
   ],
   "source": [
    "sym.plot(f, (x, 0.1, 5), title=r\"Grafik funkcije $\\ln(x)$\", xlabel=\"x\", ylabel=r\"$ln(x)$\")"
   ]
  },
  {
   "cell_type": "markdown",
   "id": "f55c7c49-c0e8-416d-925d-223c45efb5b6",
   "metadata": {
    "id": "f55c7c49-c0e8-416d-925d-223c45efb5b6"
   },
   "source": [
    "Koristimo proceduru integrate iz SymPy biblioteke kako bismo dobili rešenje:"
   ]
  },
  {
   "cell_type": "code",
   "execution_count": 380,
   "id": "cfbd7a09-2981-4a55-ad6f-45a064032965",
   "metadata": {
    "id": "cfbd7a09-2981-4a55-ad6f-45a064032965",
    "outputId": "e86de976-2bd1-47e7-caa2-4ed1e73ed2e8"
   },
   "outputs": [
    {
     "data": {
      "image/png": "[encoded data removed]",
      "text/latex": [
       "$\\displaystyle -0.846573590279973 + 2 \\log{\\left(2 \\right)}$"
      ],
      "text/plain": [
       "-0.846573590279973 + 2⋅log(2)"
      ]
     },
     "execution_count": 380,
     "metadata": {},
     "output_type": "execute_result"
    }
   ],
   "source": [
    "F = - sym.integrate(f, (x, 0.5, 1)) + sym.integrate(f, (x, 1, 2))\n",
    "F"
   ]
  },
  {
   "cell_type": "code",
   "execution_count": 382,
   "id": "d461a399-02ec-42e8-81dd-5e988cc14704",
   "metadata": {
    "id": "d461a399-02ec-42e8-81dd-5e988cc14704",
    "outputId": "43df5478-57bd-474f-86d7-6d2bbde37051"
   },
   "outputs": [
    {
     "data": {
      "image/png": "[encoded data removed]",
      "text/latex": [
       "$\\displaystyle 0.539720770839918$"
      ],
      "text/plain": [
       "0.539720770839918"
      ]
     },
     "execution_count": 382,
     "metadata": {},
     "output_type": "execute_result"
    }
   ],
   "source": [
    "F.evalf()"
   ]
  },
  {
   "cell_type": "markdown",
   "id": "b54221da-1459-4233-84c0-799b0c530f7a",
   "metadata": {
    "id": "b54221da-1459-4233-84c0-799b0c530f7a"
   },
   "source": [
    "---\n",
    "<h4>Zadatak 2. - Površina i zapremina obrtnog tela</h4>\n",
    "Izračunati veličinu zapremine tela koja nastaje rotacijom kruga $x^2+(y-4)^2 = 9 $ oko x-ose.\n",
    "\n",
    "\n",
    "\n"
   ]
  },
  {
   "cell_type": "markdown",
   "id": "55e7f9d9-b3fd-484a-8a87-4d5cc83c0dde",
   "metadata": {
    "id": "55e7f9d9-b3fd-484a-8a87-4d5cc83c0dde"
   },
   "source": [
    "Formula koja se koristi za računanje zapremine rotacionog tela je: $V= \\pi \\int _{a}^{b}(f(x))^2\\,dx $\n",
    "\n",
    "Formula koja se koristi za računanje površine rotacionog tela je: $P = 2\\pi \\int _{a}^{b}(f(x) \\sqrt{1+(f'(x))^2})\\,dx $"
   ]
  },
  {
   "cell_type": "markdown",
   "id": "5eca3eaf-2797-406f-ab34-d9b12b333e77",
   "metadata": {
    "id": "5eca3eaf-2797-406f-ab34-d9b12b333e77"
   },
   "source": [
    "Iz $x^2+(y-4)^2 = 9 $ dobijamo $ y -4 = \\pm \\sqrt{9-x^2} $\n",
    "\n",
    "Odnosno imamo 2 jednačine za y:\n",
    "\n",
    "$y  = 4 +  \\sqrt{9-x^2} $  (jednačina gornjeg polukruga)\n",
    "\n",
    "$y  = 4 -  \\sqrt{9-x^2} $ (jednačina donjeg polukruga)"
   ]
  },
  {
   "cell_type": "markdown",
   "id": "3c5775f5-b6f2-40e2-908e-70294e8c19b3",
   "metadata": {
    "id": "3c5775f5-b6f2-40e2-908e-70294e8c19b3"
   },
   "source": [
    "$ V = V_1 - V_2 = \\pi \\int _{-3}^{3}(4 + \\sqrt{9-x^2})^2\\,dx - \\pi \\int _{-3}^{3}(4 - \\sqrt{9-x^2})^2\\,dx =\n",
    "\\pi \\int _{-3}^{3}((4 + \\sqrt{9-x^2})^2 - (4 - \\sqrt{9-x^2})^2) \\,dx $"
   ]
  },
  {
   "cell_type": "markdown",
   "id": "1517798e-50bd-496e-8f0c-5538397c0f7c",
   "metadata": {},
   "source": [
    "Definisaćemo simbole i rešićemo jednačinu:"
   ]
  },
  {
   "cell_type": "code",
   "execution_count": 153,
   "id": "f175b7b1-ef04-49ce-bf15-8fa47c326690",
   "metadata": {},
   "outputs": [
    {
     "data": {
      "image/png": "[encoded data removed]",
      "text/latex": [
       "$\\displaystyle \\left[ 4 - \\sqrt{9 - x^{2}}, \\  \\sqrt{9 - x^{2}} + 4\\right]$"
      ],
      "text/plain": [
       "⎡       ________     ________    ⎤\n",
       "⎢      ╱      2     ╱      2     ⎥\n",
       "⎣4 - ╲╱  9 - x  , ╲╱  9 - x   + 4⎦"
      ]
     },
     "execution_count": 153,
     "metadata": {},
     "output_type": "execute_result"
    }
   ],
   "source": [
    "x, y = sym.symbols(\"x y\")\n",
    "y12 = sym.solve(x**2 + (y-4)**2 - 9, y)\n",
    "y12"
   ]
  },
  {
   "cell_type": "markdown",
   "id": "16242f71-d9a6-46be-82e5-3598ff7e87a2",
   "metadata": {
    "id": "16242f71-d9a6-46be-82e5-3598ff7e87a2"
   },
   "source": [
    "Definisaćemo podintegralnu funkciju:"
   ]
  },
  {
   "cell_type": "code",
   "execution_count": 155,
   "id": "36b5ad02-9583-49d5-b283-c6df83183d69",
   "metadata": {
    "id": "36b5ad02-9583-49d5-b283-c6df83183d69",
    "outputId": "e7c0748b-53d8-4ba0-b203-9dda033b4685"
   },
   "outputs": [
    {
     "data": {
      "image/png": "[encoded data removed]",
      "text/latex": [
       "$\\displaystyle \\pi \\left(- \\left(4 - \\sqrt{9 - x^{2}}\\right)^{2} + \\left(\\sqrt{9 - x^{2}} + 4\\right)^{2}\\right)$"
      ],
      "text/plain": [
       "  ⎛                   2                    2⎞\n",
       "  ⎜  ⎛       ________⎞    ⎛   ________    ⎞ ⎟\n",
       "  ⎜  ⎜      ╱      2 ⎟    ⎜  ╱      2     ⎟ ⎟\n",
       "π⋅⎝- ⎝4 - ╲╱  9 - x  ⎠  + ⎝╲╱  9 - x   + 4⎠ ⎠"
      ]
     },
     "execution_count": 155,
     "metadata": {},
     "output_type": "execute_result"
    }
   ],
   "source": [
    "f = sym.pi*((y12[1])**2-(y12[0])**2)\n",
    "f"
   ]
  },
  {
   "cell_type": "markdown",
   "id": "b298c2e2-1825-44ec-a3a9-b60c664091a6",
   "metadata": {
    "id": "b298c2e2-1825-44ec-a3a9-b60c664091a6"
   },
   "source": [
    "Koristimo proceduru integrate iz SymPy biblioteke kako bismo dobili rešenje:"
   ]
  },
  {
   "cell_type": "code",
   "execution_count": 157,
   "id": "bf1bb151-ca4a-48b9-be2c-1e89e5b6c53d",
   "metadata": {
    "id": "bf1bb151-ca4a-48b9-be2c-1e89e5b6c53d",
    "outputId": "878c0f09-89b4-41bd-f5cd-c9f914f14b1a"
   },
   "outputs": [
    {
     "data": {
      "image/png": "[encoded data removed]",
      "text/latex": [
       "$\\displaystyle 72 \\pi^{2}$"
      ],
      "text/plain": [
       "    2\n",
       "72⋅π "
      ]
     },
     "execution_count": 157,
     "metadata": {},
     "output_type": "execute_result"
    }
   ],
   "source": [
    "F =  sym.integrate(f, (x, -3, 3))\n",
    "F"
   ]
  },
  {
   "cell_type": "markdown",
   "id": "75902dce-15c1-427e-8770-7fbfde2782aa",
   "metadata": {
    "id": "75902dce-15c1-427e-8770-7fbfde2782aa"
   },
   "source": [
    "---\n",
    "<h4>Zadatak 3. - Površina i zapremina sfere (obrtnog tela) </h4>\n",
    "Izračunati veličinu površine i zapremine sfere sa centrom u koordinatnom početku poluprečnika $R$.\n",
    "\n",
    "\n",
    "\n"
   ]
  },
  {
   "cell_type": "markdown",
   "id": "399b26c1-eb0d-46da-b998-2304ecf191e3",
   "metadata": {
    "id": "399b26c1-eb0d-46da-b998-2304ecf191e3"
   },
   "source": [
    "Sfera nastaje rotacijom polukruga $x^2+y^2 = R^2, y>0 $, oko x-ose pa dobijamo jednačinu polukruga: $y = \\sqrt{R^2-x^2}  $ .  "
   ]
  },
  {
   "cell_type": "markdown",
   "id": "2e56ca15-7529-4dd4-8ae6-ee51d73aff46",
   "metadata": {
    "id": "2e56ca15-7529-4dd4-8ae6-ee51d73aff46"
   },
   "source": [
    "Prvo treba da odredimo izvod ove funkcije $\\sqrt{R^2-x^2}$ po $x$ jer nam je neophodan kako bi odredili površinu."
   ]
  },
  {
   "cell_type": "markdown",
   "id": "26b79b7a-bd0e-4a9a-8b43-efaa5d557463",
   "metadata": {},
   "source": [
    "Definisaćemo simbole i rešićemo jednačinu:"
   ]
  },
  {
   "cell_type": "code",
   "execution_count": 162,
   "id": "e117bfb6-8db0-4ff2-82bd-6bc15f13dd18",
   "metadata": {},
   "outputs": [
    {
     "data": {
      "image/png": "[encoded data removed]",
      "text/latex": [
       "$\\displaystyle \\left[ - \\sqrt{\\left(R - x\\right) \\left(R + x\\right)}, \\  \\sqrt{\\left(R - x\\right) \\left(R + x\\right)}\\right]$"
      ],
      "text/plain": [
       "⎡   _________________    _________________⎤\n",
       "⎣-╲╱ (R - x)⋅(R + x) , ╲╱ (R - x)⋅(R + x) ⎦"
      ]
     },
     "execution_count": 162,
     "metadata": {},
     "output_type": "execute_result"
    }
   ],
   "source": [
    "x = sym.Symbol(\"x\")\n",
    "y = sym.Symbol(\"y\", positive=True)\n",
    "R = sym.Symbol(\"R\", positive=True)\n",
    "y12 = sym.solve(x**2+y**2-R**2, y)\n",
    "y12"
   ]
  },
  {
   "cell_type": "markdown",
   "id": "71aae3a0-4944-4dbf-b7fa-ee13246b2e98",
   "metadata": {
    "id": "71aae3a0-4944-4dbf-b7fa-ee13246b2e98"
   },
   "source": [
    "Definisaćemo podintegralnu funkciju, odbacujemo negativno rešenje jednačine:"
   ]
  },
  {
   "cell_type": "code",
   "execution_count": 164,
   "id": "9cd08e7f-6a28-411c-a0ab-a1b21f4c42cf",
   "metadata": {
    "id": "a5f18fae-dd2b-49e4-9bd8-1859bd1a95ba",
    "outputId": "cef02fb7-915e-489e-c6ea-53f0f7ec2f7e"
   },
   "outputs": [
    {
     "data": {
      "image/png": "[encoded data removed]",
      "text/latex": [
       "$\\displaystyle \\sqrt{\\left(R - x\\right) \\left(R + x\\right)}$"
      ],
      "text/plain": [
       "  _________________\n",
       "╲╱ (R - x)⋅(R + x) "
      ]
     },
     "execution_count": 164,
     "metadata": {},
     "output_type": "execute_result"
    }
   ],
   "source": [
    "f = y12[1]\n",
    "f"
   ]
  },
  {
   "cell_type": "markdown",
   "id": "39a8e356-9584-4606-b465-da2b98a36d49",
   "metadata": {
    "id": "39a8e356-9584-4606-b465-da2b98a36d49"
   },
   "source": [
    "Ordeđujemo izvod:"
   ]
  },
  {
   "cell_type": "code",
   "execution_count": 166,
   "id": "944f15f9-3d65-4f3a-b03c-56dbc6e6b72d",
   "metadata": {
    "id": "944f15f9-3d65-4f3a-b03c-56dbc6e6b72d",
    "outputId": "47addacd-d3b1-4863-8f27-3efaeac780bb"
   },
   "outputs": [
    {
     "data": {
      "image/png": "[encoded data removed]",
      "text/latex": [
       "$\\displaystyle - \\frac{x \\sqrt{\\left(R - x\\right) \\left(R + x\\right)}}{\\left(R - x\\right) \\left(R + x\\right)}$"
      ],
      "text/plain": [
       "     _________________ \n",
       "-x⋅╲╱ (R - x)⋅(R + x)  \n",
       "───────────────────────\n",
       "    (R - x)⋅(R + x)    "
      ]
     },
     "execution_count": 166,
     "metadata": {},
     "output_type": "execute_result"
    }
   ],
   "source": [
    "g = sym.diff(f, x)\n",
    "g"
   ]
  },
  {
   "cell_type": "markdown",
   "id": "50e06040-adc1-4680-aabb-486bf69bd6cb",
   "metadata": {
    "id": "50e06040-adc1-4680-aabb-486bf69bd6cb"
   },
   "source": [
    "Površinu ćemo računati kao: $P = 2\\pi \\int _{-R}^{R}(f(x) \\sqrt{1+(g(x))^2})\\,dx $"
   ]
  },
  {
   "cell_type": "markdown",
   "id": "faeb94b7-7ed4-4666-bdda-e580c2952b5c",
   "metadata": {
    "id": "faeb94b7-7ed4-4666-bdda-e580c2952b5c"
   },
   "source": [
    "Pa za površinu dobijamo:"
   ]
  },
  {
   "cell_type": "code",
   "execution_count": 169,
   "id": "e2dd6de4-5ee2-4c1f-b5fc-f7961d2a19c1",
   "metadata": {
    "id": "e2dd6de4-5ee2-4c1f-b5fc-f7961d2a19c1",
    "outputId": "c11f5634-0ec3-4825-8cc5-623cb0073c89"
   },
   "outputs": [
    {
     "data": {
      "image/png": "[encoded data removed]",
      "text/latex": [
       "$\\displaystyle 4 \\pi R^{2}$"
      ],
      "text/plain": [
       "     2\n",
       "4⋅π⋅R "
      ]
     },
     "execution_count": 169,
     "metadata": {},
     "output_type": "execute_result"
    }
   ],
   "source": [
    "P = sym.integrate(2*sym.pi*(f*sym.sqrt(1+(g**2))),(x,-R,R))\n",
    "P"
   ]
  },
  {
   "cell_type": "markdown",
   "id": "1448ebc6-a0e2-4e55-a521-2b78a9e01b4e",
   "metadata": {
    "id": "1448ebc6-a0e2-4e55-a521-2b78a9e01b4e"
   },
   "source": [
    " $V= \\pi \\int _{-R}^{R}(f(x))^2\\,dx $"
   ]
  },
  {
   "cell_type": "markdown",
   "id": "48ce0b0d-bc74-4ab9-a6d3-bcb55bc45469",
   "metadata": {
    "id": "48ce0b0d-bc74-4ab9-a6d3-bcb55bc45469"
   },
   "source": [
    "Pa za zapreminu dobijamo:"
   ]
  },
  {
   "cell_type": "code",
   "execution_count": 172,
   "id": "68a17ff0-a002-4f66-9ab9-03d3eacd47dd",
   "metadata": {
    "id": "68a17ff0-a002-4f66-9ab9-03d3eacd47dd",
    "outputId": "2fedda2d-ef81-4928-e1f1-2555252c7bb4"
   },
   "outputs": [
    {
     "data": {
      "image/png": "[encoded data removed]",
      "text/latex": [
       "$\\displaystyle \\frac{4 \\pi R^{3}}{3}$"
      ],
      "text/plain": [
       "     3\n",
       "4⋅π⋅R \n",
       "──────\n",
       "  3   "
      ]
     },
     "execution_count": 172,
     "metadata": {},
     "output_type": "execute_result"
    }
   ],
   "source": [
    "V = sym.integrate(sym.pi*f**2,(x,-R,R))\n",
    "V"
   ]
  },
  {
   "cell_type": "markdown",
   "id": "7466b682-7696-42b7-8573-ee971ef5983e",
   "metadata": {
    "id": "7466b682-7696-42b7-8573-ee971ef5983e"
   },
   "source": [
    "---\n",
    "<h4>Zadatak 4. - Dužina luka krive</h4>\n",
    "Odrediti dužinu luka krive $y = \\ln (1-x^2)$ na intervalu $0 \\leq x \\leq \\frac {1} {2}. $\n",
    "\n",
    "\n",
    "\n"
   ]
  },
  {
   "cell_type": "markdown",
   "id": "60f3b9dd-5cda-48f3-aef3-8d49813c4005",
   "metadata": {
    "id": "60f3b9dd-5cda-48f3-aef3-8d49813c4005"
   },
   "source": [
    "Formula koja se koristi za računanje dužina luka krive: $L = \\int_{a}^{b} \\sqrt{1+(f'(x))^2}\\,dx $"
   ]
  },
  {
   "cell_type": "markdown",
   "id": "b29f7c2c-d198-4af0-86b4-0f7f393c961c",
   "metadata": {
    "id": "b29f7c2c-d198-4af0-86b4-0f7f393c961c"
   },
   "source": [
    "Definisaćemo promenljivu, funkciju i ordeđujemo izvod:"
   ]
  },
  {
   "cell_type": "code",
   "execution_count": 176,
   "id": "02602e8c-06a0-42ca-8f59-006441f61708",
   "metadata": {
    "id": "02602e8c-06a0-42ca-8f59-006441f61708",
    "outputId": "55e8299a-1210-42ec-c91b-b9814632c425"
   },
   "outputs": [
    {
     "data": {
      "image/png": "[encoded data removed]",
      "text/latex": [
       "$\\displaystyle - \\frac{2 x}{1 - x^{2}}$"
      ],
      "text/plain": [
       "-2⋅x  \n",
       "──────\n",
       "     2\n",
       "1 - x "
      ]
     },
     "execution_count": 176,
     "metadata": {},
     "output_type": "execute_result"
    }
   ],
   "source": [
    "x = sym.Symbol(\"x\", positive=True)\n",
    "f = sym.ln(1-x**2)\n",
    "g = sym.diff(f,x)\n",
    "g"
   ]
  },
  {
   "cell_type": "markdown",
   "id": "0d943aea-c556-4ad8-9365-11db80af8887",
   "metadata": {
    "id": "0d943aea-c556-4ad8-9365-11db80af8887"
   },
   "source": [
    "Pa za dužinu luka krive dobijamo:"
   ]
  },
  {
   "cell_type": "code",
   "execution_count": 178,
   "id": "783f67c5-e802-437b-b7a3-29182b55baad",
   "metadata": {
    "id": "783f67c5-e802-437b-b7a3-29182b55baad",
    "outputId": "b16469da-e433-41d7-9406-b48c0fbe4888"
   },
   "outputs": [
    {
     "data": {
      "image/png": "[encoded data removed]",
      "text/latex": [
       "$\\displaystyle \\sqrt{\\frac{4 x^{2}}{\\left(1 - x^{2}\\right)^{2}} + 1}$"
      ],
      "text/plain": [
       "       _______________\n",
       "      ╱      2        \n",
       "     ╱    4⋅x         \n",
       "    ╱   ───────── + 1 \n",
       "   ╱            2     \n",
       "  ╱     ⎛     2⎞      \n",
       "╲╱      ⎝1 - x ⎠      "
      ]
     },
     "execution_count": 178,
     "metadata": {},
     "output_type": "execute_result"
    }
   ],
   "source": [
    "f = sym.sqrt(1+(g**2))\n",
    "f"
   ]
  },
  {
   "cell_type": "code",
   "execution_count": 179,
   "id": "fee7cd32-f37e-4483-a186-90767447ee14",
   "metadata": {
    "id": "fee7cd32-f37e-4483-a186-90767447ee14",
    "outputId": "b4b49031-402a-4972-f937-fcb31b158e1a"
   },
   "outputs": [
    {
     "data": {
      "image/png": "[encoded data removed]",
      "text/latex": [
       "$\\displaystyle \\int\\limits_{0}^{0.5} \\frac{x^{2} + 1}{\\left|{x^{2} - 1}\\right|}\\, dx$"
      ],
      "text/plain": [
       "0.5            \n",
       " ⌠             \n",
       " ⎮    2        \n",
       " ⎮   x  + 1    \n",
       " ⎮  ──────── dx\n",
       " ⎮  │ 2    │   \n",
       " ⎮  │x  - 1│   \n",
       " ⌡             \n",
       " 0             "
      ]
     },
     "execution_count": 179,
     "metadata": {},
     "output_type": "execute_result"
    }
   ],
   "source": [
    "L = sym.integrate(f, (x, 0, 0.5))\n",
    "L"
   ]
  },
  {
   "cell_type": "markdown",
   "id": "e02f9d85-8a9f-4e85-9646-60bbb449c96c",
   "metadata": {
    "id": "e02f9d85-8a9f-4e85-9646-60bbb449c96c"
   },
   "source": [
    "Moramo srediti izraz jer SymPy ne može da ga izračuna."
   ]
  },
  {
   "cell_type": "code",
   "execution_count": 181,
   "id": "6263829a-7047-4a93-8393-393c1a659752",
   "metadata": {
    "id": "6263829a-7047-4a93-8393-393c1a659752",
    "outputId": "af7df775-ae76-4de6-cc54-09809875634c"
   },
   "outputs": [
    {
     "data": {
      "image/png": "[encoded data removed]",
      "text/latex": [
       "$\\displaystyle \\frac{\\left(x^{2} + 1\\right)^{2}}{\\left(x - 1\\right)^{2} \\left(x + 1\\right)^{2}}$"
      ],
      "text/plain": [
       "            2    \n",
       "    ⎛ 2    ⎞     \n",
       "    ⎝x  + 1⎠     \n",
       "─────────────────\n",
       "       2        2\n",
       "(x - 1) ⋅(x + 1) "
      ]
     },
     "execution_count": 181,
     "metadata": {},
     "output_type": "execute_result"
    }
   ],
   "source": [
    "(g**2+1).factor()"
   ]
  },
  {
   "cell_type": "code",
   "execution_count": 182,
   "id": "c6c81232-2a7c-4159-ac73-47df1d2d24ca",
   "metadata": {
    "id": "c6c81232-2a7c-4159-ac73-47df1d2d24ca",
    "outputId": "9799189f-5c6e-4f53-bf9d-a3c8d5438be6"
   },
   "outputs": [
    {
     "data": {
      "image/png": "[encoded data removed]",
      "text/latex": [
       "$\\displaystyle \\frac{x^{2} + 1}{\\left(x + 1\\right) \\left|{x - 1}\\right|}$"
      ],
      "text/plain": [
       "     2         \n",
       "    x  + 1     \n",
       "───────────────\n",
       "(x + 1)⋅│x - 1│"
      ]
     },
     "execution_count": 182,
     "metadata": {},
     "output_type": "execute_result"
    }
   ],
   "source": [
    "sym.sqrt((g**2+1).factor())"
   ]
  },
  {
   "cell_type": "code",
   "execution_count": 183,
   "id": "bf711b93-be2a-4f39-933e-ef1776d56af7",
   "metadata": {
    "id": "bf711b93-be2a-4f39-933e-ef1776d56af7",
    "outputId": "d64f39bf-8205-4b2b-ec63-e71a22f0559d"
   },
   "outputs": [
    {
     "data": {
      "image/png": "[encoded data removed]",
      "text/latex": [
       "$\\displaystyle 0.59861228866811$"
      ],
      "text/plain": [
       "0.598612288668110"
      ]
     },
     "execution_count": 183,
     "metadata": {},
     "output_type": "execute_result"
    }
   ],
   "source": [
    "L = sym.integrate(sym.sqrt((g**2+1).factor()) , (x, 0, 0.5))\n",
    "L"
   ]
  },
  {
   "cell_type": "markdown",
   "id": "365d4c37-7a27-423e-b757-1d471ec19852",
   "metadata": {
    "id": "365d4c37-7a27-423e-b757-1d471ec19852"
   },
   "source": [
    "# 2.4 Zadaci dvojni i trojni određeni integrali"
   ]
  },
  {
   "cell_type": "markdown",
   "id": "c54f9d55-965e-4b7f-a08e-75105d5c5012",
   "metadata": {
    "id": "c54f9d55-965e-4b7f-a08e-75105d5c5012"
   },
   "source": [
    "---\n",
    "<h4>Zadatak 1. - Dvojni integral i numeričko rešenje koristeći SciPy</h4>\n",
    "Naći rešenje dvojnog integrala:\n",
    "$$\n",
    "I =  \\int_{0}^ {\\pi}\\sin (x)  \\,dx \\int_{0}^{1}\\, y^2\\, dy\n",
    "\\tag{1}\n",
    "$$\n"
   ]
  },
  {
   "cell_type": "markdown",
   "id": "4f478e02-ad09-4866-ade8-728bfd0f85d1",
   "metadata": {
    "id": "4f478e02-ad09-4866-ade8-728bfd0f85d1"
   },
   "source": [
    "Definišemo simbole i funkciju:"
   ]
  },
  {
   "cell_type": "code",
   "execution_count": 187,
   "id": "d2a86901-9835-4814-aaa2-e2c8e8e5fa87",
   "metadata": {
    "id": "d2a86901-9835-4814-aaa2-e2c8e8e5fa87"
   },
   "outputs": [],
   "source": [
    "y, x = sym.symbols(\"y x\")"
   ]
  },
  {
   "cell_type": "code",
   "execution_count": 188,
   "id": "bc468c13-3fc8-4a99-a8cf-355c8225e710",
   "metadata": {
    "id": "bc468c13-3fc8-4a99-a8cf-355c8225e710",
    "outputId": "ea3c7805-1b11-4fe6-ef73-ce3c4355246c"
   },
   "outputs": [
    {
     "data": {
      "image/png": "[encoded data removed]",
      "text/latex": [
       "$\\displaystyle y^{2} \\sin{\\left(x \\right)}$"
      ],
      "text/plain": [
       " 2       \n",
       "y ⋅sin(x)"
      ]
     },
     "execution_count": 188,
     "metadata": {},
     "output_type": "execute_result"
    }
   ],
   "source": [
    "f = sym.sin(x) * y**2\n",
    "f"
   ]
  },
  {
   "cell_type": "markdown",
   "id": "3177f3c7-977d-475b-b288-ae8a78982db5",
   "metadata": {
    "id": "3177f3c7-977d-475b-b288-ae8a78982db5"
   },
   "source": [
    "Integralimo i dobijamo rešenje:"
   ]
  },
  {
   "cell_type": "code",
   "execution_count": 190,
   "id": "9516c1c2-427f-4db7-b7b6-6c43ae421e52",
   "metadata": {
    "id": "9516c1c2-427f-4db7-b7b6-6c43ae421e52",
    "outputId": "e14cfc4e-9113-48a8-db4f-fa6d5417a918"
   },
   "outputs": [
    {
     "data": {
      "image/png": "[encoded data removed]",
      "text/latex": [
       "$\\displaystyle 0.666666666666667$"
      ],
      "text/plain": [
       "0.666666666666667"
      ]
     },
     "execution_count": 190,
     "metadata": {},
     "output_type": "execute_result"
    }
   ],
   "source": [
    "F = sym.integrate(f, (x, 0, sym.pi), (y, 0, 1))\n",
    "F.evalf()"
   ]
  },
  {
   "cell_type": "markdown",
   "id": "0ee3aa81-895f-4120-aaf9-4acbb52d35b8",
   "metadata": {
    "id": "0ee3aa81-895f-4120-aaf9-4acbb52d35b8"
   },
   "source": [
    "Sada ćemo koristeći proceduru `dblquad` iz biblioteke SciPy <b>numerički</b> rešiti ovaj integral.  "
   ]
  },
  {
   "cell_type": "code",
   "execution_count": 192,
   "id": "c76584d1-eeaf-4997-9767-f2ce1076c391",
   "metadata": {
    "id": "c76584d1-eeaf-4997-9767-f2ce1076c391",
    "outputId": "e664a0aa-ce65-47c2-c3ad-883be8f8c075"
   },
   "outputs": [
    {
     "data": {
      "image/png": "[encoded data removed]",
      "text/latex": [
       "$\\displaystyle 0.666666666666667$"
      ],
      "text/plain": [
       "0.6666666666666665"
      ]
     },
     "execution_count": 192,
     "metadata": {},
     "output_type": "execute_result"
    }
   ],
   "source": [
    "f = lambda y, x: np.sin(x) * y**2\n",
    "F_dblquad, dblquad_err = integrate.dblquad(f,  0, np.pi, 0, 1)\n",
    "F_dblquad"
   ]
  },
  {
   "cell_type": "markdown",
   "id": "dd7b17f2-3757-4097-adbe-6087ad83e51a",
   "metadata": {
    "id": "dd7b17f2-3757-4097-adbe-6087ad83e51a"
   },
   "source": [
    "Greška integracije je:"
   ]
  },
  {
   "cell_type": "code",
   "execution_count": 194,
   "id": "0ece8343-7171-4559-a8bd-01fbf0d07093",
   "metadata": {
    "id": "0ece8343-7171-4559-a8bd-01fbf0d07093",
    "outputId": "0ee48cb4-2fb9-42bb-c39e-44c05179e03b"
   },
   "outputs": [
    {
     "data": {
      "image/png": "[encoded data removed]",
      "text/latex": [
       "$\\displaystyle 7.40148683083438 \\cdot 10^{-15}$"
      ],
      "text/plain": [
       "7.401486830834376e-15"
      ]
     },
     "execution_count": 194,
     "metadata": {},
     "output_type": "execute_result"
    }
   ],
   "source": [
    "dblquad_err"
   ]
  },
  {
   "cell_type": "code",
   "execution_count": 195,
   "id": "16216432-d339-4c66-b75a-30bc8282f599",
   "metadata": {
    "id": "16216432-d339-4c66-b75a-30bc8282f599",
    "outputId": "460c1d83-c8cb-4469-8cc3-5101320b4352"
   },
   "outputs": [
    {
     "data": {
      "image/png": "[encoded data removed]",
      "text/plain": [
       "<Figure size 640x480 with 2 Axes>"
      ]
     },
     "metadata": {},
     "output_type": "display_data"
    }
   ],
   "source": [
    "from mpl_toolkits.mplot3d import Axes3D\n",
    "\n",
    "# Definiši funkciju\n",
    "def fja(x, y):\n",
    "    return np.sin(x)* y**2\n",
    "\n",
    "# Oblast u x i y\n",
    "x = np.linspace(0, np.pi, 100)\n",
    "y = np.linspace(0, 1, 100)\n",
    "X, Y = np.meshgrid(x, y)\n",
    "Z = fja(X, Y)\n",
    "\n",
    "# Crtanje 3D grafika\n",
    "fig = plt.figure()\n",
    "ax = fig.add_subplot(111, projection='3d')\n",
    "ax.set_title(r\"Vizualizacija funkcije $f(x, y) = \\sin{(x)}y^2$ na intervalu integracije\")\n",
    "ax.set_xlabel(\"x\")\n",
    "ax.set_ylabel(\"y\")\n",
    "ax.set_zlabel(\"z\")\n",
    "surface = ax.plot_surface(X, Y, Z, cmap='viridis')\n",
    "\n",
    "fig.colorbar(surface, ax=ax)\n",
    "\n",
    "\n",
    "\n",
    "# Prikaz oblasti\n",
    "plt.show()\n"
   ]
  },
  {
   "cell_type": "markdown",
   "id": "982f4e90-d602-4283-b9f8-718029aa9cdd",
   "metadata": {
    "id": "982f4e90-d602-4283-b9f8-718029aa9cdd"
   },
   "source": [
    "---\n",
    "<h4>Zadatak 2. - Trojni integral i numeričko rešenje koristeći SciPy</h4>\n",
    "Naći rešenje trojnog integrala:\n",
    "$$\n",
    "I = \\int_{0}^{2\\pi} dx  \\int_{0}^{1}\\, y^2 \\, dy  \\int_{0}^{1} \\, dz\n",
    "\\tag{2}\n",
    "$$\n"
   ]
  },
  {
   "cell_type": "markdown",
   "id": "97684fb7-b8e1-46bb-998c-0ee24b9224e2",
   "metadata": {
    "id": "97684fb7-b8e1-46bb-998c-0ee24b9224e2"
   },
   "source": [
    "Definišemo simbole i funkciju:"
   ]
  },
  {
   "cell_type": "code",
   "execution_count": 198,
   "id": "9e513489-40ff-4ecc-b77f-a008210e478d",
   "metadata": {
    "id": "9e513489-40ff-4ecc-b77f-a008210e478d"
   },
   "outputs": [],
   "source": [
    "y, x, z = sym.symbols(\"y x z\")"
   ]
  },
  {
   "cell_type": "code",
   "execution_count": 199,
   "id": "f73b4bea-ac07-46c5-b2db-1ef7e22a33b3",
   "metadata": {
    "id": "f73b4bea-ac07-46c5-b2db-1ef7e22a33b3",
    "outputId": "74ceb2ed-6cfa-416a-9418-08f9816fe01e"
   },
   "outputs": [
    {
     "data": {
      "image/png": "[encoded data removed]",
      "text/latex": [
       "$\\displaystyle y^{2}$"
      ],
      "text/plain": [
       " 2\n",
       "y "
      ]
     },
     "execution_count": 199,
     "metadata": {},
     "output_type": "execute_result"
    }
   ],
   "source": [
    "f = y**2\n",
    "f"
   ]
  },
  {
   "cell_type": "markdown",
   "id": "c599c725-f171-4b5f-9bfd-e8b70a73b8d6",
   "metadata": {
    "id": "c599c725-f171-4b5f-9bfd-e8b70a73b8d6"
   },
   "source": [
    "Radimo trostruki integral i dobijamo rešenje:"
   ]
  },
  {
   "cell_type": "code",
   "execution_count": 201,
   "id": "f45a15b6-f6ba-4a33-b21d-8e618604e368",
   "metadata": {
    "id": "f45a15b6-f6ba-4a33-b21d-8e618604e368",
    "outputId": "f508ca04-5e36-4c62-c0ab-1aff3849a05c"
   },
   "outputs": [
    {
     "data": {
      "image/png": "[encoded data removed]",
      "text/latex": [
       "$\\displaystyle 2.0943951023932$"
      ],
      "text/plain": [
       "2.09439510239320"
      ]
     },
     "execution_count": 201,
     "metadata": {},
     "output_type": "execute_result"
    }
   ],
   "source": [
    "F = sym.integrate(f , (z, 0, 1), (y, 0, 1), (x, 0, 2 * sym.pi))\n",
    "F.evalf()"
   ]
  },
  {
   "cell_type": "markdown",
   "id": "c6c30811-ed02-453b-8220-0b6d81ea3ddd",
   "metadata": {
    "id": "c6c30811-ed02-453b-8220-0b6d81ea3ddd"
   },
   "source": [
    "Sada ćemo koristeći proceduru `tplquad` iz biblioteke SciPy <b>numerički</b> rešiti ovaj integral.  "
   ]
  },
  {
   "cell_type": "code",
   "execution_count": 203,
   "id": "e9d04359-9195-4dc1-b454-6deccdaf7a65",
   "metadata": {
    "id": "e9d04359-9195-4dc1-b454-6deccdaf7a65",
    "outputId": "2ccfe998-6fef-4f1f-da9c-15cc32a12f8f"
   },
   "outputs": [
    {
     "data": {
      "image/png": "[encoded data removed]",
      "text/latex": [
       "$\\displaystyle 2.0943951023932$"
      ],
      "text/plain": [
       "2.0943951023931957"
      ]
     },
     "execution_count": 203,
     "metadata": {},
     "output_type": "execute_result"
    }
   ],
   "source": [
    "f = lambda x, y, z: y**2\n",
    "F_tplquad, tplquad_err = integrate.tplquad(f, 0, 1, 0, 1, 0, 2*np.pi)\n",
    "F_tplquad"
   ]
  },
  {
   "cell_type": "markdown",
   "id": "84ff1e11-1ac3-43b0-8cc8-1dbe1cece69a",
   "metadata": {
    "id": "84ff1e11-1ac3-43b0-8cc8-1dbe1cece69a"
   },
   "source": [
    "Greška integracije je:"
   ]
  },
  {
   "cell_type": "code",
   "execution_count": 205,
   "id": "43c57f8d-809a-4579-a850-97fe1f6934ea",
   "metadata": {
    "id": "43c57f8d-809a-4579-a850-97fe1f6934ea",
    "outputId": "2a36cc7f-c9bb-4b9c-ff8b-a38c54dd450a"
   },
   "outputs": [
    {
     "data": {
      "image/png": "[encoded data removed]",
      "text/latex": [
       "$\\displaystyle 6.94547539847497 \\cdot 10^{-14}$"
      ],
      "text/plain": [
       "6.945475398474965e-14"
      ]
     },
     "execution_count": 205,
     "metadata": {},
     "output_type": "execute_result"
    }
   ],
   "source": [
    "tplquad_err"
   ]
  },
  {
   "cell_type": "code",
   "execution_count": 206,
   "id": "2a1b1ede-fb7a-42da-aeb9-700639b6589d",
   "metadata": {
    "id": "2a1b1ede-fb7a-42da-aeb9-700639b6589d",
    "outputId": "17a8ce6d-38ef-49b5-b658-000fc43d4411"
   },
   "outputs": [
    {
     "data": {
      "image/png": "[encoded data removed]",
      "text/plain": [
       "<Figure size 1000x700 with 2 Axes>"
      ]
     },
     "metadata": {},
     "output_type": "display_data"
    }
   ],
   "source": [
    "# Definišemo funkciju iz integrala: 1 * y^2 * 1 = y^2\n",
    "def f_3d(x, y, z):\n",
    "    return y**2\n",
    "\n",
    "# Oblasti za x, y, z\n",
    "x = np.linspace(0, 2 * np.pi, 100)\n",
    "y = np.linspace(0, 1, 100)\n",
    "z = np.linspace(0, 1, 100)\n",
    "\n",
    "X, Y, Z = np.meshgrid(x, y, z)\n",
    "F = f_3d(X, Y, Z)\n",
    "\n",
    "# Vizualizacija funkcije u 3D prostoru\n",
    "fig = plt.figure(figsize=(10, 7))\n",
    "ax = fig.add_subplot(111, projection='3d')\n",
    "\n",
    "# Površinski graf\n",
    "surf = ax.scatter(X, Y, Z, c=F, cmap='viridis')\n",
    "ax.set_title(\"Vizualizacija funkcije $f(x, y, z) = y^2$ na intervalu integracije\")\n",
    "ax.set_xlabel(\"x\")\n",
    "ax.set_ylabel(\"y\")\n",
    "ax.set_zlabel(\"z\")\n",
    "\n",
    "# Dodajemo bočnu traku sa bojama\n",
    "fig.colorbar(surf, shrink=0.5, aspect=10)\n",
    "\n",
    "plt.show()\n"
   ]
  },
  {
   "cell_type": "markdown",
   "id": "72b32516-da85-4844-b58a-d425df11432c",
   "metadata": {},
   "source": [
    "---\n",
    "<h4>Zadatak 3. - Dvojni integral sa parametrom </h4>\n",
    "Naći rešenje dvojnog integrala:\n",
    "$$\n",
    "I = \\int_{x=0}^{\\pi}\\int_{y=cos(a)}^{e^{-a}}{xsiny}\\,dx \\,dy\n",
    "\\tag{3}\n",
    "$$"
   ]
  },
  {
   "cell_type": "markdown",
   "id": "fd184f23-f4d5-4e6a-abec-70200b73c6c3",
   "metadata": {},
   "source": [
    "Rešava se standradno:"
   ]
  },
  {
   "cell_type": "code",
   "execution_count": 209,
   "id": "73092ab6-8d38-4d22-9043-ea8bf746b32f",
   "metadata": {},
   "outputs": [
    {
     "data": {
      "image/png": "[encoded data removed]",
      "text/latex": [
       "$\\displaystyle x \\sin{\\left(y \\right)}$"
      ],
      "text/plain": [
       "x⋅sin(y)"
      ]
     },
     "execution_count": 209,
     "metadata": {},
     "output_type": "execute_result"
    }
   ],
   "source": [
    "x, y, a = sym.symbols(\"x y a\")\n",
    "f = x*sym.sin(y)\n",
    "f"
   ]
  },
  {
   "cell_type": "code",
   "execution_count": 210,
   "id": "3cdc9131-98d2-4801-a335-a6eb2501bd41",
   "metadata": {},
   "outputs": [
    {
     "data": {
      "image/png": "[encoded data removed]",
      "text/latex": [
       "$\\displaystyle - \\frac{\\pi^{2} \\cos{\\left(e^{- a} \\right)}}{2} + \\frac{\\pi^{2} \\cos{\\left(\\cos{\\left(a \\right)} \\right)}}{2}$"
      ],
      "text/plain": [
       "   2    ⎛ -a⎞    2            \n",
       "  π ⋅cos⎝ℯ  ⎠   π ⋅cos(cos(a))\n",
       "- ─────────── + ──────────────\n",
       "       2              2       "
      ]
     },
     "execution_count": 210,
     "metadata": {},
     "output_type": "execute_result"
    }
   ],
   "source": [
    "F = f.integrate((x, 0, sym.pi), (y, sym.cos(a), sym.exp(-a)))\n",
    "F"
   ]
  },
  {
   "cell_type": "markdown",
   "id": "3d2bd199-03d6-40c3-8313-f99050f8d56d",
   "metadata": {
    "id": "3d2bd199-03d6-40c3-8313-f99050f8d56d"
   },
   "source": [
    "---\n",
    "---\n",
    "# Literatura"
   ]
  },
  {
   "cell_type": "markdown",
   "id": "fdcbae77-a421-4b8c-84e4-c184ddf4da6c",
   "metadata": {
    "id": "fdcbae77-a421-4b8c-84e4-c184ddf4da6c"
   },
   "source": [
    "\n",
    "1. Nataša Ćirović, Numerička matematika, Beograd, 2018. <br>\n",
    "2. [SciPy Dokumentacija](https://scipy.org/), pristupljeno novembra 2024. <br>\n",
    "3. [Materijali sa Matematike 2 - Teams platforma](https://teams.microsoft.com/l/team/19%3aDjLrqQwsTgXsR3C_O6krlv59mS4kiaRPZzxbIUSNTIo1%40thread.tacv2/conversations?groupId=0e44125a-5fa8-4631-8d14-b1ddcf5e2a1b&tenantId=1774ef2e-9c62-478a-8d3a-fd2a495547ba), pristupljeno novembra 2024.  <br>\n",
    "4. [Materijali sa Matematike 3](http://matematika3.etf.rs/testovi/testovi%20M3.pdf), pristupljeno novembra 2024. <br>\n",
    "5. [Matplotlib Dokumentacija](https://matplotlib.org/), pristupljeno novembra 2024.\n",
    "\n"
   ]
  }
 ],
 "metadata": {
  "colab": {
   "provenance": []
  },
  "kernelspec": {
   "display_name": "Python 3 (ipykernel)",
   "language": "python",
   "name": "python3"
  },
  "language_info": {
   "codemirror_mode": {
    "name": "ipython",
    "version": 3
   },
   "file_extension": ".py",
   "mimetype": "text/x-python",
   "name": "python",
   "nbconvert_exporter": "python",
   "pygments_lexer": "ipython3",
   "version": "3.12.7"
  }
 },
 "nbformat": 4,
 "nbformat_minor": 5
}
